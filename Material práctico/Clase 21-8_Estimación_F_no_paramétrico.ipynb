{
  "nbformat": 4,
  "nbformat_minor": 0,
  "metadata": {
    "colab": {
      "provenance": []
    },
    "kernelspec": {
      "name": "python3",
      "display_name": "Python 3"
    },
    "language_info": {
      "name": "python"
    }
  },
  "cells": [
    {
      "cell_type": "markdown",
      "metadata": {
        "id": "X0Taup-sn6Mt"
      },
      "source": [
        "# Estimación de F (modelos no paramétricos)"
      ]
    },
    {
      "cell_type": "code",
      "execution_count": 3,
      "metadata": {
        "id": "ej3aRJcy9NtG"
      },
      "outputs": [],
      "source": [
        "import numpy as np\n",
        "import pandas as pd\n",
        "import matplotlib.pyplot as plt\n",
        "from scipy import stats"
      ]
    },
    {
      "cell_type": "markdown",
      "metadata": {
        "id": "oYaasFKloE1k"
      },
      "source": [
        "## Función de distribución empírica\n",
        "\n",
        "La función de distribución empírica para una muestra $X_1,...,X_n \\sim F $ se define  $$\\hat{F_n}(x) = \\frac{1}{n} \\sum_{i=1}^{n}I(X_i\\leq x) $$\n",
        "\n",
        "Es decir, le aplica PMF $ p_{X_i}(x) = p(X_i=x) = \\frac{1}{n}$ a cada $X_i$"
      ]
    },
    {
      "cell_type": "code",
      "source": [
        "x_ejemplo = [3, 1, 2, 6, 2]"
      ],
      "metadata": {
        "id": "n3OexBhiM569"
      },
      "execution_count": 15,
      "outputs": []
    },
    {
      "cell_type": "markdown",
      "source": [
        "¿Que seria $\\hat F_n(1)$?  ¿Que seria $\\hat F_n(2)$?"
      ],
      "metadata": {
        "id": "ns6vDBYhNi06"
      }
    },
    {
      "cell_type": "code",
      "source": [
        "#Defino la distribución empírica F_hat\n",
        "F_hat_ejemplo = stats.ecdf(x_ejemplo)"
      ],
      "metadata": {
        "id": "LBgF8a9zNd5b"
      },
      "execution_count": 16,
      "outputs": []
    },
    {
      "cell_type": "code",
      "source": [
        "type(F_hat_ejemplo)"
      ],
      "metadata": {
        "colab": {
          "base_uri": "https://localhost:8080/",
          "height": 187
        },
        "id": "rw7xTA0i9St_",
        "outputId": "d46cda6a-28db-4889-f728-750a8f6a4198"
      },
      "execution_count": 17,
      "outputs": [
        {
          "output_type": "execute_result",
          "data": {
            "text/plain": [
              "scipy.stats._survival.ECDFResult"
            ],
            "text/html": [
              "<div style=\"max-width:800px; border: 1px solid var(--colab-border-color);\"><style>\n",
              "      pre.function-repr-contents {\n",
              "        overflow-x: auto;\n",
              "        padding: 8px 12px;\n",
              "        max-height: 500px;\n",
              "      }\n",
              "\n",
              "      pre.function-repr-contents.function-repr-contents-collapsed {\n",
              "        cursor: pointer;\n",
              "        max-height: 100px;\n",
              "      }\n",
              "    </style>\n",
              "    <pre style=\"white-space: initial; background:\n",
              "         var(--colab-secondary-surface-color); padding: 8px 12px;\n",
              "         border-bottom: 1px solid var(--colab-border-color);\"><b>scipy.stats._survival.ECDFResult</b><br/>def __init__(q, cdf, sf, n, d)</pre><pre class=\"function-repr-contents function-repr-contents-collapsed\" style=\"\"><a class=\"filepath\" style=\"display:none\" href=\"#\">/usr/local/lib/python3.12/dist-packages/scipy/stats/_survival.py</a>Result object returned by `scipy.stats.ecdf`\n",
              "\n",
              "Attributes\n",
              "----------\n",
              "cdf : `~scipy.stats._result_classes.EmpiricalDistributionFunction`\n",
              "    An object representing the empirical cumulative distribution function.\n",
              "sf : `~scipy.stats._result_classes.EmpiricalDistributionFunction`\n",
              "    An object representing the complement of the empirical cumulative\n",
              "    distribution function.</pre>\n",
              "      <script>\n",
              "      if (google.colab.kernel.accessAllowed && google.colab.files && google.colab.files.view) {\n",
              "        for (const element of document.querySelectorAll('.filepath')) {\n",
              "          element.style.display = 'block'\n",
              "          element.onclick = (event) => {\n",
              "            event.preventDefault();\n",
              "            event.stopPropagation();\n",
              "            google.colab.files.view(element.textContent, 219);\n",
              "          };\n",
              "        }\n",
              "      }\n",
              "      for (const element of document.querySelectorAll('.function-repr-contents')) {\n",
              "        element.onclick = (event) => {\n",
              "          event.preventDefault();\n",
              "          event.stopPropagation();\n",
              "          element.classList.toggle('function-repr-contents-collapsed');\n",
              "        };\n",
              "      }\n",
              "      </script>\n",
              "      </div>"
            ]
          },
          "metadata": {},
          "execution_count": 17
        }
      ]
    },
    {
      "cell_type": "code",
      "source": [
        "print(F_hat_ejemplo.cdf.quantiles) #los valores ordenados de los datos"
      ],
      "metadata": {
        "colab": {
          "base_uri": "https://localhost:8080/"
        },
        "id": "UnIT8D0_3dYj",
        "outputId": "196e6692-b4dd-45d3-826d-c80c3dca46e6"
      },
      "execution_count": 18,
      "outputs": [
        {
          "output_type": "stream",
          "name": "stdout",
          "text": [
            "[1. 2. 3. 6.]\n"
          ]
        }
      ]
    },
    {
      "cell_type": "code",
      "source": [
        "print(F_hat_ejemplo.cdf.probabilities)"
      ],
      "metadata": {
        "colab": {
          "base_uri": "https://localhost:8080/"
        },
        "id": "Ineg6A4r3vXa",
        "outputId": "5617de64-c108-4266-ea4c-93ba88f4b862"
      },
      "execution_count": 19,
      "outputs": [
        {
          "output_type": "stream",
          "name": "stdout",
          "text": [
            "[0.2 0.6 0.8 1. ]\n"
          ]
        }
      ]
    },
    {
      "cell_type": "code",
      "source": [
        "print(F_hat_ejemplo.cdf.evaluate(4.0))"
      ],
      "metadata": {
        "colab": {
          "base_uri": "https://localhost:8080/"
        },
        "id": "BaNSbqUZRk2L",
        "outputId": "db55317d-f8f0-4d57-dab8-39996eb6f36d"
      },
      "execution_count": 20,
      "outputs": [
        {
          "output_type": "stream",
          "name": "stdout",
          "text": [
            "0.8\n"
          ]
        }
      ]
    },
    {
      "cell_type": "code",
      "source": [
        "x_ordenados = F_hat_ejemplo.cdf.quantiles\n",
        "F_probabilidades = F_hat_ejemplo.cdf.probabilities\n",
        "\n",
        "plt.figure(figsize=(3, 3))\n",
        "ax = plt.subplot()\n",
        "ax.step(x_ordenados,F_probabilidades,where='post')\n",
        "F_hat_ejemplo.cdf.plot(ax)"
      ],
      "metadata": {
        "colab": {
          "base_uri": "https://localhost:8080/",
          "height": 309
        },
        "id": "N4vbEmD9-o_4",
        "outputId": "3ff765e6-48f5-4d6f-945e-ad01796bbf1b"
      },
      "execution_count": 21,
      "outputs": [
        {
          "output_type": "execute_result",
          "data": {
            "text/plain": [
              "[<matplotlib.lines.Line2D at 0x7eafe8e49070>]"
            ]
          },
          "metadata": {},
          "execution_count": 21
        },
        {
          "output_type": "display_data",
          "data": {
            "text/plain": [
              "<Figure size 300x300 with 1 Axes>"
            ],
            "image/png": "[encoded data removed]"
          },
          "metadata": {}
        }
      ]
    },
    {
      "cell_type": "markdown",
      "metadata": {
        "id": "aELUJdTAx8_V"
      },
      "source": [
        "### Importo datos\n",
        "\n",
        "Busco $n=100$ datos para estimar la distribución subyacente. Para el ejemplo voy a sacarlos de [este repositorio](https://www.kaggle.com/datasets/tentotheminus9/gravity-spy-gravitational-waves) pero pueden probar con cualquier dataset. En este caso son muestras de tiempos de duración de glitches encontrados en mediciones de LIGO."
      ]
    },
    {
      "cell_type": "code",
      "source": [
        "!pip install gdown\n",
        "\n",
        "# Download the file using gdown\n",
        "!gdown 1BYjpp3wR3QcGS00ZA-i2-eQk69N1yYNC"
      ],
      "metadata": {
        "colab": {
          "base_uri": "https://localhost:8080/"
        },
        "collapsed": true,
        "id": "6ynudNevPkp4",
        "outputId": "47a7f719-d240-4c20-8fb1-dc95bf28651e"
      },
      "execution_count": 22,
      "outputs": [
        {
          "output_type": "stream",
          "name": "stdout",
          "text": [
            "Requirement already satisfied: gdown in /usr/local/lib/python3.12/dist-packages (5.2.0)\n",
            "Requirement already satisfied: beautifulsoup4 in /usr/local/lib/python3.12/dist-packages (from gdown) (4.13.4)\n",
            "Requirement already satisfied: filelock in /usr/local/lib/python3.12/dist-packages (from gdown) (3.19.1)\n",
            "Requirement already satisfied: requests[socks] in /usr/local/lib/python3.12/dist-packages (from gdown) (2.32.4)\n",
            "Requirement already satisfied: tqdm in /usr/local/lib/python3.12/dist-packages (from gdown) (4.67.1)\n",
            "Requirement already satisfied: soupsieve>1.2 in /usr/local/lib/python3.12/dist-packages (from beautifulsoup4->gdown) (2.7)\n",
            "Requirement already satisfied: typing-extensions>=4.0.0 in /usr/local/lib/python3.12/dist-packages (from beautifulsoup4->gdown) (4.14.1)\n",
            "Requirement already satisfied: charset_normalizer<4,>=2 in /usr/local/lib/python3.12/dist-packages (from requests[socks]->gdown) (3.4.3)\n",
            "Requirement already satisfied: idna<4,>=2.5 in /usr/local/lib/python3.12/dist-packages (from requests[socks]->gdown) (3.10)\n",
            "Requirement already satisfied: urllib3<3,>=1.21.1 in /usr/local/lib/python3.12/dist-packages (from requests[socks]->gdown) (2.5.0)\n",
            "Requirement already satisfied: certifi>=2017.4.17 in /usr/local/lib/python3.12/dist-packages (from requests[socks]->gdown) (2025.8.3)\n",
            "Requirement already satisfied: PySocks!=1.5.7,>=1.5.6 in /usr/local/lib/python3.12/dist-packages (from requests[socks]->gdown) (1.7.1)\n",
            "Downloading...\n",
            "From: https://drive.google.com/uc?id=1BYjpp3wR3QcGS00ZA-i2-eQk69N1yYNC\n",
            "To: /content/trainingset_v1d1_metadata.csv\n",
            "100% 5.37M/5.37M [00:00<00:00, 147MB/s]\n"
          ]
        }
      ]
    },
    {
      "cell_type": "code",
      "source": [
        "datos = pd.read_csv('trainingset_v1d1_metadata.csv', delimiter=',')\n",
        "datos.head()"
      ],
      "metadata": {
        "colab": {
          "base_uri": "https://localhost:8080/",
          "height": 342
        },
        "id": "e1QiD0VA86m2",
        "outputId": "b5d08591-1e44-4010-948a-1b5d0912628f"
      },
      "execution_count": 23,
      "outputs": [
        {
          "output_type": "execute_result",
          "data": {
            "text/plain": [
              "     event_time ifo   peak_time  peak_time_ns  start_time  start_time_ns  \\\n",
              "0  1.134216e+09  L1  1134216192     931639909  1134216192      832031011   \n",
              "1  1.129360e+09  L1  1129359781     558593034  1129359781       47851085   \n",
              "2  1.127425e+09  L1  1127425468     976317882  1127425468      960937023   \n",
              "3  1.132637e+09  L1  1132636755     365233898  1132636754      951172113   \n",
              "4  1.132036e+09  L1  1132035853     197264909  1132035852      933837890   \n",
              "\n",
              "   duration   search  process_id  event_id  ...  chisq_dof  param_one_name  \\\n",
              "0   0.18750  Omicron           0        21  ...          0           phase   \n",
              "1   0.94238  Omicron           0       107  ...          0           phase   \n",
              "2   0.04688  Omicron           0       218  ...          0           phase   \n",
              "3   0.82422  Omicron           0        88  ...          0           phase   \n",
              "4   2.00366  Omicron           0        16  ...          0           phase   \n",
              "\n",
              "   param_one_value gravityspy_id    label  sample_type  \\\n",
              "0         -2.72902    zmIdpucyOG  Whistle        train   \n",
              "1          1.10682    zWFRqqDxwv  Whistle         test   \n",
              "2         -0.83099    zKCTakFVcf  Whistle        train   \n",
              "3          0.76242    z14BdoiFZS  Whistle   validation   \n",
              "4         -0.31161    yyjqLCtAmO  Whistle   validation   \n",
              "\n",
              "                                                url1  \\\n",
              "0  https://panoptes-uploads.zooniverse.org/produc...   \n",
              "1  https://panoptes-uploads.zooniverse.org/produc...   \n",
              "2  https://panoptes-uploads.zooniverse.org/produc...   \n",
              "3  https://panoptes-uploads.zooniverse.org/produc...   \n",
              "4  https://panoptes-uploads.zooniverse.org/produc...   \n",
              "\n",
              "                                                url2  \\\n",
              "0  https://panoptes-uploads.zooniverse.org/produc...   \n",
              "1  https://panoptes-uploads.zooniverse.org/produc...   \n",
              "2  https://panoptes-uploads.zooniverse.org/produc...   \n",
              "3  https://panoptes-uploads.zooniverse.org/produc...   \n",
              "4  https://panoptes-uploads.zooniverse.org/produc...   \n",
              "\n",
              "                                                url3  \\\n",
              "0  https://panoptes-uploads.zooniverse.org/produc...   \n",
              "1  https://panoptes-uploads.zooniverse.org/produc...   \n",
              "2  https://panoptes-uploads.zooniverse.org/produc...   \n",
              "3  https://panoptes-uploads.zooniverse.org/produc...   \n",
              "4  https://panoptes-uploads.zooniverse.org/produc...   \n",
              "\n",
              "                                                url4  \n",
              "0  https://panoptes-uploads.zooniverse.org/produc...  \n",
              "1  https://panoptes-uploads.zooniverse.org/produc...  \n",
              "2  https://panoptes-uploads.zooniverse.org/produc...  \n",
              "3  https://panoptes-uploads.zooniverse.org/produc...  \n",
              "4  https://panoptes-uploads.zooniverse.org/produc...  \n",
              "\n",
              "[5 rows x 28 columns]"
            ],
            "text/html": [
              "\n",
              "  <div id=\"df-c094ad0a-a221-4a3b-afe7-80756cc613c8\" class=\"colab-df-container\">\n",
              "    <div>\n",
              "<style scoped>\n",
              "    .dataframe tbody tr th:only-of-type {\n",
              "        vertical-align: middle;\n",
              "    }\n",
              "\n",
              "    .dataframe tbody tr th {\n",
              "        vertical-align: top;\n",
              "    }\n",
              "\n",
              "    .dataframe thead th {\n",
              "        text-align: right;\n",
              "    }\n",
              "</style>\n",
              "<table border=\"1\" class=\"dataframe\">\n",
              "  <thead>\n",
              "    <tr style=\"text-align: right;\">\n",
              "      <th></th>\n",
              "      <th>event_time</th>\n",
              "      <th>ifo</th>\n",
              "      <th>peak_time</th>\n",
              "      <th>peak_time_ns</th>\n",
              "      <th>start_time</th>\n",
              "      <th>start_time_ns</th>\n",
              "      <th>duration</th>\n",
              "      <th>search</th>\n",
              "      <th>process_id</th>\n",
              "      <th>event_id</th>\n",
              "      <th>...</th>\n",
              "      <th>chisq_dof</th>\n",
              "      <th>param_one_name</th>\n",
              "      <th>param_one_value</th>\n",
              "      <th>gravityspy_id</th>\n",
              "      <th>label</th>\n",
              "      <th>sample_type</th>\n",
              "      <th>url1</th>\n",
              "      <th>url2</th>\n",
              "      <th>url3</th>\n",
              "      <th>url4</th>\n",
              "    </tr>\n",
              "  </thead>\n",
              "  <tbody>\n",
              "    <tr>\n",
              "      <th>0</th>\n",
              "      <td>1.134216e+09</td>\n",
              "      <td>L1</td>\n",
              "      <td>1134216192</td>\n",
              "      <td>931639909</td>\n",
              "      <td>1134216192</td>\n",
              "      <td>832031011</td>\n",
              "      <td>0.18750</td>\n",
              "      <td>Omicron</td>\n",
              "      <td>0</td>\n",
              "      <td>21</td>\n",
              "      <td>...</td>\n",
              "      <td>0</td>\n",
              "      <td>phase</td>\n",
              "      <td>-2.72902</td>\n",
              "      <td>zmIdpucyOG</td>\n",
              "      <td>Whistle</td>\n",
              "      <td>train</td>\n",
              "      <td>https://panoptes-uploads.zooniverse.org/produc...</td>\n",
              "      <td>https://panoptes-uploads.zooniverse.org/produc...</td>\n",
              "      <td>https://panoptes-uploads.zooniverse.org/produc...</td>\n",
              "      <td>https://panoptes-uploads.zooniverse.org/produc...</td>\n",
              "    </tr>\n",
              "    <tr>\n",
              "      <th>1</th>\n",
              "      <td>1.129360e+09</td>\n",
              "      <td>L1</td>\n",
              "      <td>1129359781</td>\n",
              "      <td>558593034</td>\n",
              "      <td>1129359781</td>\n",
              "      <td>47851085</td>\n",
              "      <td>0.94238</td>\n",
              "      <td>Omicron</td>\n",
              "      <td>0</td>\n",
              "      <td>107</td>\n",
              "      <td>...</td>\n",
              "      <td>0</td>\n",
              "      <td>phase</td>\n",
              "      <td>1.10682</td>\n",
              "      <td>zWFRqqDxwv</td>\n",
              "      <td>Whistle</td>\n",
              "      <td>test</td>\n",
              "      <td>https://panoptes-uploads.zooniverse.org/produc...</td>\n",
              "      <td>https://panoptes-uploads.zooniverse.org/produc...</td>\n",
              "      <td>https://panoptes-uploads.zooniverse.org/produc...</td>\n",
              "      <td>https://panoptes-uploads.zooniverse.org/produc...</td>\n",
              "    </tr>\n",
              "    <tr>\n",
              "      <th>2</th>\n",
              "      <td>1.127425e+09</td>\n",
              "      <td>L1</td>\n",
              "      <td>1127425468</td>\n",
              "      <td>976317882</td>\n",
              "      <td>1127425468</td>\n",
              "      <td>960937023</td>\n",
              "      <td>0.04688</td>\n",
              "      <td>Omicron</td>\n",
              "      <td>0</td>\n",
              "      <td>218</td>\n",
              "      <td>...</td>\n",
              "      <td>0</td>\n",
              "      <td>phase</td>\n",
              "      <td>-0.83099</td>\n",
              "      <td>zKCTakFVcf</td>\n",
              "      <td>Whistle</td>\n",
              "      <td>train</td>\n",
              "      <td>https://panoptes-uploads.zooniverse.org/produc...</td>\n",
              "      <td>https://panoptes-uploads.zooniverse.org/produc...</td>\n",
              "      <td>https://panoptes-uploads.zooniverse.org/produc...</td>\n",
              "      <td>https://panoptes-uploads.zooniverse.org/produc...</td>\n",
              "    </tr>\n",
              "    <tr>\n",
              "      <th>3</th>\n",
              "      <td>1.132637e+09</td>\n",
              "      <td>L1</td>\n",
              "      <td>1132636755</td>\n",
              "      <td>365233898</td>\n",
              "      <td>1132636754</td>\n",
              "      <td>951172113</td>\n",
              "      <td>0.82422</td>\n",
              "      <td>Omicron</td>\n",
              "      <td>0</td>\n",
              "      <td>88</td>\n",
              "      <td>...</td>\n",
              "      <td>0</td>\n",
              "      <td>phase</td>\n",
              "      <td>0.76242</td>\n",
              "      <td>z14BdoiFZS</td>\n",
              "      <td>Whistle</td>\n",
              "      <td>validation</td>\n",
              "      <td>https://panoptes-uploads.zooniverse.org/produc...</td>\n",
              "      <td>https://panoptes-uploads.zooniverse.org/produc...</td>\n",
              "      <td>https://panoptes-uploads.zooniverse.org/produc...</td>\n",
              "      <td>https://panoptes-uploads.zooniverse.org/produc...</td>\n",
              "    </tr>\n",
              "    <tr>\n",
              "      <th>4</th>\n",
              "      <td>1.132036e+09</td>\n",
              "      <td>L1</td>\n",
              "      <td>1132035853</td>\n",
              "      <td>197264909</td>\n",
              "      <td>1132035852</td>\n",
              "      <td>933837890</td>\n",
              "      <td>2.00366</td>\n",
              "      <td>Omicron</td>\n",
              "      <td>0</td>\n",
              "      <td>16</td>\n",
              "      <td>...</td>\n",
              "      <td>0</td>\n",
              "      <td>phase</td>\n",
              "      <td>-0.31161</td>\n",
              "      <td>yyjqLCtAmO</td>\n",
              "      <td>Whistle</td>\n",
              "      <td>validation</td>\n",
              "      <td>https://panoptes-uploads.zooniverse.org/produc...</td>\n",
              "      <td>https://panoptes-uploads.zooniverse.org/produc...</td>\n",
              "      <td>https://panoptes-uploads.zooniverse.org/produc...</td>\n",
              "      <td>https://panoptes-uploads.zooniverse.org/produc...</td>\n",
              "    </tr>\n",
              "  </tbody>\n",
              "</table>\n",
              "<p>5 rows × 28 columns</p>\n",
              "</div>\n",
              "    <div class=\"colab-df-buttons\">\n",
              "\n",
              "  <div class=\"colab-df-container\">\n",
              "    <button class=\"colab-df-convert\" onclick=\"convertToInteractive('df-c094ad0a-a221-4a3b-afe7-80756cc613c8')\"\n",
              "            title=\"Convert this dataframe to an interactive table.\"\n",
              "            style=\"display:none;\">\n",
              "\n",
              "  <svg xmlns=\"http://www.w3.org/2000/svg\" height=\"24px\" viewBox=\"0 -960 960 960\">\n",
              "    <path d=\"M120-120v-720h720v720H120Zm60-500h600v-160H180v160Zm220 220h160v-160H400v160Zm0 220h160v-160H400v160ZM180-400h160v-160H180v160Zm440 0h160v-160H620v160ZM180-180h160v-160H180v160Zm440 0h160v-160H620v160Z\"/>\n",
              "  </svg>\n",
              "    </button>\n",
              "\n",
              "  <style>\n",
              "    .colab-df-container {\n",
              "      display:flex;\n",
              "      gap: 12px;\n",
              "    }\n",
              "\n",
              "    .colab-df-convert {\n",
              "      background-color: #E8F0FE;\n",
              "      border: none;\n",
              "      border-radius: 50%;\n",
              "      cursor: pointer;\n",
              "      display: none;\n",
              "      fill: #1967D2;\n",
              "      height: 32px;\n",
              "      padding: 0 0 0 0;\n",
              "      width: 32px;\n",
              "    }\n",
              "\n",
              "    .colab-df-convert:hover {\n",
              "      background-color: #E2EBFA;\n",
              "      box-shadow: 0px 1px 2px rgba(60, 64, 67, 0.3), 0px 1px 3px 1px rgba(60, 64, 67, 0.15);\n",
              "      fill: #174EA6;\n",
              "    }\n",
              "\n",
              "    .colab-df-buttons div {\n",
              "      margin-bottom: 4px;\n",
              "    }\n",
              "\n",
              "    [theme=dark] .colab-df-convert {\n",
              "      background-color: #3B4455;\n",
              "      fill: #D2E3FC;\n",
              "    }\n",
              "\n",
              "    [theme=dark] .colab-df-convert:hover {\n",
              "      background-color: #434B5C;\n",
              "      box-shadow: 0px 1px 3px 1px rgba(0, 0, 0, 0.15);\n",
              "      filter: drop-shadow(0px 1px 2px rgba(0, 0, 0, 0.3));\n",
              "      fill: #FFFFFF;\n",
              "    }\n",
              "  </style>\n",
              "\n",
              "    <script>\n",
              "      const buttonEl =\n",
              "        document.querySelector('#df-c094ad0a-a221-4a3b-afe7-80756cc613c8 button.colab-df-convert');\n",
              "      buttonEl.style.display =\n",
              "        google.colab.kernel.accessAllowed ? 'block' : 'none';\n",
              "\n",
              "      async function convertToInteractive(key) {\n",
              "        const element = document.querySelector('#df-c094ad0a-a221-4a3b-afe7-80756cc613c8');\n",
              "        const dataTable =\n",
              "          await google.colab.kernel.invokeFunction('convertToInteractive',\n",
              "                                                    [key], {});\n",
              "        if (!dataTable) return;\n",
              "\n",
              "        const docLinkHtml = 'Like what you see? Visit the ' +\n",
              "          '<a target=\"_blank\" href=https://colab.research.google.com/notebooks/data_table.ipynb>data table notebook</a>'\n",
              "          + ' to learn more about interactive tables.';\n",
              "        element.innerHTML = '';\n",
              "        dataTable['output_type'] = 'display_data';\n",
              "        await google.colab.output.renderOutput(dataTable, element);\n",
              "        const docLink = document.createElement('div');\n",
              "        docLink.innerHTML = docLinkHtml;\n",
              "        element.appendChild(docLink);\n",
              "      }\n",
              "    </script>\n",
              "  </div>\n",
              "\n",
              "\n",
              "    <div id=\"df-d4a44a30-8d68-4e33-9ef8-f38cfab096b7\">\n",
              "      <button class=\"colab-df-quickchart\" onclick=\"quickchart('df-d4a44a30-8d68-4e33-9ef8-f38cfab096b7')\"\n",
              "                title=\"Suggest charts\"\n",
              "                style=\"display:none;\">\n",
              "\n",
              "<svg xmlns=\"http://www.w3.org/2000/svg\" height=\"24px\"viewBox=\"0 0 24 24\"\n",
              "     width=\"24px\">\n",
              "    <g>\n",
              "        <path d=\"M19 3H5c-1.1 0-2 .9-2 2v14c0 1.1.9 2 2 2h14c1.1 0 2-.9 2-2V5c0-1.1-.9-2-2-2zM9 17H7v-7h2v7zm4 0h-2V7h2v10zm4 0h-2v-4h2v4z\"/>\n",
              "    </g>\n",
              "</svg>\n",
              "      </button>\n",
              "\n",
              "<style>\n",
              "  .colab-df-quickchart {\n",
              "      --bg-color: #E8F0FE;\n",
              "      --fill-color: #1967D2;\n",
              "      --hover-bg-color: #E2EBFA;\n",
              "      --hover-fill-color: #174EA6;\n",
              "      --disabled-fill-color: #AAA;\n",
              "      --disabled-bg-color: #DDD;\n",
              "  }\n",
              "\n",
              "  [theme=dark] .colab-df-quickchart {\n",
              "      --bg-color: #3B4455;\n",
              "      --fill-color: #D2E3FC;\n",
              "      --hover-bg-color: #434B5C;\n",
              "      --hover-fill-color: #FFFFFF;\n",
              "      --disabled-bg-color: #3B4455;\n",
              "      --disabled-fill-color: #666;\n",
              "  }\n",
              "\n",
              "  .colab-df-quickchart {\n",
              "    background-color: var(--bg-color);\n",
              "    border: none;\n",
              "    border-radius: 50%;\n",
              "    cursor: pointer;\n",
              "    display: none;\n",
              "    fill: var(--fill-color);\n",
              "    height: 32px;\n",
              "    padding: 0;\n",
              "    width: 32px;\n",
              "  }\n",
              "\n",
              "  .colab-df-quickchart:hover {\n",
              "    background-color: var(--hover-bg-color);\n",
              "    box-shadow: 0 1px 2px rgba(60, 64, 67, 0.3), 0 1px 3px 1px rgba(60, 64, 67, 0.15);\n",
              "    fill: var(--button-hover-fill-color);\n",
              "  }\n",
              "\n",
              "  .colab-df-quickchart-complete:disabled,\n",
              "  .colab-df-quickchart-complete:disabled:hover {\n",
              "    background-color: var(--disabled-bg-color);\n",
              "    fill: var(--disabled-fill-color);\n",
              "    box-shadow: none;\n",
              "  }\n",
              "\n",
              "  .colab-df-spinner {\n",
              "    border: 2px solid var(--fill-color);\n",
              "    border-color: transparent;\n",
              "    border-bottom-color: var(--fill-color);\n",
              "    animation:\n",
              "      spin 1s steps(1) infinite;\n",
              "  }\n",
              "\n",
              "  @keyframes spin {\n",
              "    0% {\n",
              "      border-color: transparent;\n",
              "      border-bottom-color: var(--fill-color);\n",
              "      border-left-color: var(--fill-color);\n",
              "    }\n",
              "    20% {\n",
              "      border-color: transparent;\n",
              "      border-left-color: var(--fill-color);\n",
              "      border-top-color: var(--fill-color);\n",
              "    }\n",
              "    30% {\n",
              "      border-color: transparent;\n",
              "      border-left-color: var(--fill-color);\n",
              "      border-top-color: var(--fill-color);\n",
              "      border-right-color: var(--fill-color);\n",
              "    }\n",
              "    40% {\n",
              "      border-color: transparent;\n",
              "      border-right-color: var(--fill-color);\n",
              "      border-top-color: var(--fill-color);\n",
              "    }\n",
              "    60% {\n",
              "      border-color: transparent;\n",
              "      border-right-color: var(--fill-color);\n",
              "    }\n",
              "    80% {\n",
              "      border-color: transparent;\n",
              "      border-right-color: var(--fill-color);\n",
              "      border-bottom-color: var(--fill-color);\n",
              "    }\n",
              "    90% {\n",
              "      border-color: transparent;\n",
              "      border-bottom-color: var(--fill-color);\n",
              "    }\n",
              "  }\n",
              "</style>\n",
              "\n",
              "      <script>\n",
              "        async function quickchart(key) {\n",
              "          const quickchartButtonEl =\n",
              "            document.querySelector('#' + key + ' button');\n",
              "          quickchartButtonEl.disabled = true;  // To prevent multiple clicks.\n",
              "          quickchartButtonEl.classList.add('colab-df-spinner');\n",
              "          try {\n",
              "            const charts = await google.colab.kernel.invokeFunction(\n",
              "                'suggestCharts', [key], {});\n",
              "          } catch (error) {\n",
              "            console.error('Error during call to suggestCharts:', error);\n",
              "          }\n",
              "          quickchartButtonEl.classList.remove('colab-df-spinner');\n",
              "          quickchartButtonEl.classList.add('colab-df-quickchart-complete');\n",
              "        }\n",
              "        (() => {\n",
              "          let quickchartButtonEl =\n",
              "            document.querySelector('#df-d4a44a30-8d68-4e33-9ef8-f38cfab096b7 button');\n",
              "          quickchartButtonEl.style.display =\n",
              "            google.colab.kernel.accessAllowed ? 'block' : 'none';\n",
              "        })();\n",
              "      </script>\n",
              "    </div>\n",
              "\n",
              "    </div>\n",
              "  </div>\n"
            ],
            "application/vnd.google.colaboratory.intrinsic+json": {
              "type": "dataframe",
              "variable_name": "datos"
            }
          },
          "metadata": {},
          "execution_count": 23
        }
      ]
    },
    {
      "cell_type": "code",
      "execution_count": 24,
      "metadata": {
        "colab": {
          "base_uri": "https://localhost:8080/",
          "height": 432
        },
        "id": "wPgDxwArqlLQ",
        "outputId": "1819617a-8c48-4228-a3cd-ef468f96fbdc"
      },
      "outputs": [
        {
          "output_type": "display_data",
          "data": {
            "text/plain": [
              "<Figure size 640x480 with 1 Axes>"
            ],
            "image/png": "[encoded data removed]"
          },
          "metadata": {}
        }
      ],
      "source": [
        "#Importo una muestra cualquiera\n",
        "n = 100\n",
        "sample_data = datos['duration'].sample(n=n)\n",
        "sample = sample_data.values\n",
        "plt.hist(sample,bins='auto')\n",
        "plt.show()"
      ]
    },
    {
      "cell_type": "code",
      "source": [
        "#Defino la distribución empírica F_hat\n",
        "F_hat = stats.ecdf(sample)"
      ],
      "metadata": {
        "id": "gnV_ZDAG9RXp"
      },
      "execution_count": 25,
      "outputs": []
    },
    {
      "cell_type": "code",
      "execution_count": 26,
      "metadata": {
        "colab": {
          "base_uri": "https://localhost:8080/",
          "height": 472
        },
        "id": "IxelmLjlbfCs",
        "outputId": "c4ecf098-1e94-4777-d55f-8e86b3e88765"
      },
      "outputs": [
        {
          "output_type": "display_data",
          "data": {
            "text/plain": [
              "<Figure size 640x480 with 1 Axes>"
            ],
            "image/png": "[encoded data removed]"
          },
          "metadata": {}
        }
      ],
      "source": [
        "#Defino la distribución empírica F_hat\n",
        "F_hat = stats.ecdf(sample)\n",
        "\n",
        "#Para trabajar con la CDF invocamos al atributo cdf y graficamos\n",
        "ax = plt.subplot()\n",
        "F_hat.cdf.plot(ax)\n",
        "ax.set_xlabel('x')\n",
        "ax.set_ylabel(r'$\\hat{F_n}(x)$')\n",
        "plt.title('Función de distribución empírica')\n",
        "plt.show()"
      ]
    },
    {
      "cell_type": "code",
      "source": [
        "#F_hat.cdf tiene, a su vez, dos atributos:\n",
        "x = F_hat.cdf.quantiles #array con los (X_1,...,X_n) de la muestra ordenados de menor a mayor"
      ],
      "metadata": {
        "id": "KFN7_zA59_3O"
      },
      "execution_count": 27,
      "outputs": []
    },
    {
      "cell_type": "code",
      "source": [
        "x"
      ],
      "metadata": {
        "colab": {
          "base_uri": "https://localhost:8080/"
        },
        "id": "VBWNkv7_6dPy",
        "outputId": "1f73b648-c5b7-4619-e976-b916f41919ab"
      },
      "execution_count": 30,
      "outputs": [
        {
          "output_type": "execute_result",
          "data": {
            "text/plain": [
              "array([0.01172   , 0.01563   , 0.02344   , 0.03125   , 0.03516   ,\n",
              "       0.03906   , 0.05469   , 0.0625    , 0.07812   , 0.09375   ,\n",
              "       0.10156   , 0.10938   , 0.12341   , 0.13477001, 0.14061999,\n",
              "       0.14844   , 0.15039   , 0.17188001, 0.1875    , 0.19922   ,\n",
              "       0.20801   , 0.21875   , 0.23438001, 0.25      , 0.28125   ,\n",
              "       0.29003999, 0.37061   , 0.375     , 0.39061999, 0.4375    ,\n",
              "       0.5       , 0.5625    , 0.61035001, 0.625     , 0.64453   ,\n",
              "       0.65625   , 0.67346001, 0.67919999, 0.6875    , 0.70850003,\n",
              "       0.75      , 0.78125   , 0.875     , 0.90723002, 0.97656   ,\n",
              "       1.        , 1.5       , 1.72070003, 1.75      , 1.80859005,\n",
              "       1.875     , 2.33203006, 2.5       , 2.75      , 3.15820003,\n",
              "       3.5       , 4.09375   , 4.875     , 5.02539015, 6.00487995,\n",
              "       6.32372999, 6.38672018, 6.41016006, 7.        , 7.0527401 ,\n",
              "       7.49218988, 8.77880955])"
            ]
          },
          "metadata": {},
          "execution_count": 30
        }
      ]
    },
    {
      "cell_type": "code",
      "source": [
        "len(x)"
      ],
      "metadata": {
        "colab": {
          "base_uri": "https://localhost:8080/"
        },
        "id": "4fcGJeWA-Aue",
        "outputId": "90b2ed49-2fbc-44db-8f45-5c17374d09f7"
      },
      "execution_count": 29,
      "outputs": [
        {
          "output_type": "execute_result",
          "data": {
            "text/plain": [
              "67"
            ]
          },
          "metadata": {},
          "execution_count": 29
        }
      ]
    },
    {
      "cell_type": "code",
      "source": [
        "F = F_hat.cdf.probabilities #array con la CDF para cada valor correspondiente de x\n",
        "F"
      ],
      "metadata": {
        "colab": {
          "base_uri": "https://localhost:8080/"
        },
        "id": "OXUcE5ru-GHS",
        "outputId": "1e1245bf-5b4e-46d9-9429-249b4aae7705"
      },
      "execution_count": 31,
      "outputs": [
        {
          "output_type": "execute_result",
          "data": {
            "text/plain": [
              "array([0.01, 0.02, 0.03, 0.04, 0.05, 0.07, 0.09, 0.13, 0.14, 0.18, 0.19,\n",
              "       0.2 , 0.21, 0.22, 0.23, 0.24, 0.25, 0.26, 0.3 , 0.31, 0.32, 0.33,\n",
              "       0.34, 0.37, 0.39, 0.4 , 0.41, 0.42, 0.43, 0.45, 0.47, 0.48, 0.49,\n",
              "       0.53, 0.54, 0.55, 0.56, 0.57, 0.58, 0.59, 0.63, 0.64, 0.67, 0.68,\n",
              "       0.69, 0.71, 0.75, 0.76, 0.81, 0.82, 0.83, 0.84, 0.86, 0.87, 0.88,\n",
              "       0.89, 0.9 , 0.91, 0.92, 0.93, 0.94, 0.95, 0.96, 0.97, 0.98, 0.99,\n",
              "       1.  ])"
            ]
          },
          "metadata": {},
          "execution_count": 31
        }
      ]
    },
    {
      "cell_type": "code",
      "source": [
        "F_hat.cdf.evaluate(6.0)"
      ],
      "metadata": {
        "colab": {
          "base_uri": "https://localhost:8080/"
        },
        "id": "jay2FQLy6pii",
        "outputId": "9fb25347-92e3-4e73-b54a-4cc886e3b394"
      },
      "execution_count": 32,
      "outputs": [
        {
          "output_type": "execute_result",
          "data": {
            "text/plain": [
              "array(0.92)"
            ]
          },
          "metadata": {},
          "execution_count": 32
        }
      ]
    },
    {
      "cell_type": "code",
      "execution_count": 33,
      "metadata": {
        "colab": {
          "base_uri": "https://localhost:8080/",
          "height": 472
        },
        "id": "-xPejJ1BeiGA",
        "outputId": "34caf85b-77d0-4000-80c3-2f876d99745f",
        "collapsed": true
      },
      "outputs": [
        {
          "output_type": "display_data",
          "data": {
            "text/plain": [
              "<Figure size 640x480 with 1 Axes>"
            ],
            "image/png": "[encoded data removed]"
          },
          "metadata": {}
        }
      ],
      "source": [
        "ax = plt.subplot()\n",
        "ax.step(x,F,where='post') #manuealmente\n",
        "F_hat.cdf.plot(ax,ls=':') #automaticamente\n",
        "\n",
        "ax.set_xlabel('x')\n",
        "ax.set_ylabel(r'$\\hat{F_n}(x)$')\n",
        "plt.title('Función de distribución empírica')\n",
        "plt.show()"
      ]
    },
    {
      "cell_type": "code",
      "execution_count": 34,
      "metadata": {
        "colab": {
          "base_uri": "https://localhost:8080/"
        },
        "id": "YolD_PpKpZ0z",
        "outputId": "1c340596-67bc-40ba-ce4f-fe542886b3ab"
      },
      "outputs": [
        {
          "output_type": "execute_result",
          "data": {
            "text/plain": [
              "array(0.83)"
            ]
          },
          "metadata": {},
          "execution_count": 34
        }
      ],
      "source": [
        "#Para evaluar F_hat en un valor arbitrario de x podemos usar el método evaluate(x)\n",
        "F_hat.cdf.evaluate(2.0)"
      ]
    },
    {
      "cell_type": "markdown",
      "metadata": {
        "id": "VE1ItyzkDS-6"
      },
      "source": [
        "### Funcionales estadísticos"
      ]
    },
    {
      "cell_type": "markdown",
      "metadata": {
        "id": "8rNCuZdmAO0L"
      },
      "source": [
        "Llamamos $T(F)$ a un funcional estadístico de una distribución $F$. Es cualquier cantidad que se pueda calcular como función de $F$ (ej: promedio, varianza, cuantiles, etc.)\n",
        "\n",
        "Para obtener estimar cualquier $T(F)$ podemos usar el estimador \"plug-in\", que es simplemente reemplazar $F$ con $\\hat{F_n}$.\n",
        "\n",
        "Por ejemplo, la media de una variable aleatoria $X \\sim F$ es\n",
        "\n",
        "$$ \\mu = E(X) =  \\sum_{x}x p_X(x) \\hspace{1cm} \\text{(caso discreto)}$$\n",
        "$$ \\mu = E(X) =  \\int x f_X(x)dx \\hspace{1cm} \\text{(caso continuo)} $$\n",
        "\n",
        "Entonces, el estimador plug-in de $\\mu$ será\n",
        "$$\\hat{\\mu} = \\frac{1}{n}\\sum_{i=1}^{n}X_i$$\n",
        "\n",
        "es decir, el promedio muestral.\n",
        "\n",
        "Resumidamente, podemos estimar cualquier funcional estadístico por su contraparte muestral."
      ]
    },
    {
      "cell_type": "code",
      "execution_count": 35,
      "metadata": {
        "colab": {
          "base_uri": "https://localhost:8080/"
        },
        "id": "jxlJ0LziFHMf",
        "outputId": "0a087ab8-cac2-4462-c9d8-24d5e05c1b68"
      },
      "outputs": [
        {
          "output_type": "stream",
          "name": "stdout",
          "text": [
            "media = 1.3266262008063494\n",
            "mediana = 0.625\n",
            "std = 1.9433207452602799\n",
            "25-cuartil = 0.16650750488042826\n"
          ]
        }
      ],
      "source": [
        "#algunas características muestrales\n",
        "\n",
        "mean = np.mean(sample)     # promedio\n",
        "var = np.var(sample)       # varianza\n",
        "std = np.std(sample)       # desvío estándar (sqrt(var))\n",
        "median = np.median(sample) # mediana\n",
        "quantile = np.quantile(sample,q = 0.25) # cuantiles\n",
        "\n",
        "print('media =',mean)\n",
        "print('mediana =',median)\n",
        "print('std =',std)\n",
        "print('25-cuartil =',quantile)"
      ]
    },
    {
      "cell_type": "code",
      "source": [
        "#asimetría: si es negativa, tiene una cola más larga a la izquierda; positiva, a la derecha\n",
        "skewness = stats.skew(sample)\n",
        "\n",
        "#correlación\n",
        "sample_id = sample_data.index\n",
        "sample_2 = datos.loc[sample_id, 'amplitude'].values\n",
        "correlation = stats.pearsonr(sample,sample_2).statistic\n",
        "\n",
        "print('asimetría = ',skewness)\n",
        "print('correlación con Y:amplitud =',correlation)"
      ],
      "metadata": {
        "colab": {
          "base_uri": "https://localhost:8080/"
        },
        "id": "2k9qeM2LDBBx",
        "outputId": "d543c1c3-9b5e-4d14-b66f-02b8a30a6ea8"
      },
      "execution_count": 36,
      "outputs": [
        {
          "output_type": "stream",
          "name": "stdout",
          "text": [
            "asimetría =  2.136587600912707\n",
            "correlación con Y:amplitud = 0.618946635785953\n"
          ]
        }
      ]
    },
    {
      "cell_type": "markdown",
      "metadata": {
        "id": "gpAC1xYvxcUn"
      },
      "source": [
        "### Intervalos de confianza\n",
        "\n",
        "Podemos construír un intervalo de confianza de nivel $1-\\alpha$ para $F$ donde los bordes inferiores y superiores $L(x)$ y $U(x)$ son:\n",
        "$$ L(x) = \\max(\\hat{F_n}(x)-\\epsilon_n,0)$$\n",
        "$$ U(x) = \\min(\\hat{F_n}(x)+\\epsilon_n,1)$$\n",
        "\n",
        "con $ \\epsilon_n = \\sqrt{\\frac{1}{2n}\\log(\\frac{2}{\\alpha})} $\n",
        "\n",
        "Con estos valores, $P(L(x)\\leq F(x) \\leq U(x) )\\geq 1-\\alpha$ para cualquier $F$.\n",
        "\n",
        "**$\\hat{F_n}(x)$ es la función de distribución acumulada empírica**"
      ]
    },
    {
      "cell_type": "code",
      "source": [
        "def confidence_interval_dkw(ecdf,alpha=0.05):\n",
        "  L = []\n",
        "  U = []\n",
        "  n = len(ecdf.probabilities)\n",
        "  epsilon_n = np.sqrt(np.log(2/alpha)/(2*n))\n",
        "  for i in range(0,n):\n",
        "    L_i = np.max([ecdf.probabilities[i]-epsilon_n,0])\n",
        "    U_i = np.min([ecdf.probabilities[i]+epsilon_n,1])\n",
        "    L.append(L_i)\n",
        "    U.append(U_i)\n",
        "  return L,U\n",
        "\n",
        "low,up = confidence_interval_dkw(F_hat.cdf,alpha=0.05)"
      ],
      "metadata": {
        "id": "yhomxAHLGLh7"
      },
      "execution_count": 37,
      "outputs": []
    },
    {
      "cell_type": "code",
      "source": [
        "len(low)"
      ],
      "metadata": {
        "colab": {
          "base_uri": "https://localhost:8080/"
        },
        "id": "ZRiVvxQkZooE",
        "outputId": "a7405390-d939-42ee-ac1c-b0e4a6604420"
      },
      "execution_count": 39,
      "outputs": [
        {
          "output_type": "execute_result",
          "data": {
            "text/plain": [
              "67"
            ]
          },
          "metadata": {},
          "execution_count": 39
        }
      ]
    },
    {
      "cell_type": "code",
      "execution_count": 40,
      "metadata": {
        "colab": {
          "base_uri": "https://localhost:8080/",
          "height": 490
        },
        "id": "u5bpXdgXgIDK",
        "outputId": "1ddc08e9-392b-4bf2-92ca-57e74c4372a5"
      },
      "outputs": [
        {
          "output_type": "execute_result",
          "data": {
            "text/plain": [
              "Text(0.5, 1.0, 'Función de distribución empírica')"
            ]
          },
          "metadata": {},
          "execution_count": 40
        },
        {
          "output_type": "display_data",
          "data": {
            "text/plain": [
              "<Figure size 640x480 with 1 Axes>"
            ],
            "image/png": "[encoded data removed]"
          },
          "metadata": {}
        }
      ],
      "source": [
        "ax = plt.subplot()\n",
        "ax.step(x,low,'r--',alpha=0.5,where='post')\n",
        "ax.step(x,up,'r--',alpha=0.5,where='post')\n",
        "F_hat.cdf.plot(ax)\n",
        "ax.set_xlabel('x')\n",
        "ax.set_ylabel(r'$\\hat{F_n}(x)$')\n",
        "plt.title('Función de distribución empírica')"
      ]
    },
    {
      "cell_type": "markdown",
      "metadata": {
        "id": "qKpcrYpApZWg"
      },
      "source": [
        "### Ejemplo con F~N(0,1)\n",
        "\n",
        "Empecemos generando una muestra aleatoria $$X_1,...,X_{100} \\sim \\mathcal{N}(0,1) $$"
      ]
    },
    {
      "cell_type": "code",
      "execution_count": 44,
      "metadata": {
        "colab": {
          "base_uri": "https://localhost:8080/",
          "height": 452
        },
        "id": "PW9DCrV8abmy",
        "outputId": "fad72405-6341-4510-fb57-eb966600a0ea"
      },
      "outputs": [
        {
          "output_type": "display_data",
          "data": {
            "text/plain": [
              "<Figure size 640x480 with 1 Axes>"
            ],
            "image/png": "[encoded data removed]"
          },
          "metadata": {}
        }
      ],
      "source": [
        "mu = 0\n",
        "sigma = 1\n",
        "n = 100\n",
        "\n",
        "norm_sample = stats.norm.rvs(size=n,loc=mu,scale=sigma)\n",
        "\n",
        "plt.hist(norm_sample, density=True, bins='auto')\n",
        "plt.title('Muestra N(0,1), n = {}'.format(n))\n",
        "plt.show()"
      ]
    },
    {
      "cell_type": "code",
      "execution_count": 45,
      "metadata": {
        "colab": {
          "base_uri": "https://localhost:8080/",
          "height": 490
        },
        "id": "B764ZgYrjXpB",
        "outputId": "d7b559d8-795b-4e34-b878-789ce5f6c885"
      },
      "outputs": [
        {
          "output_type": "execute_result",
          "data": {
            "text/plain": [
              "<matplotlib.legend.Legend at 0x7eafe5cf32c0>"
            ]
          },
          "metadata": {},
          "execution_count": 45
        },
        {
          "output_type": "display_data",
          "data": {
            "text/plain": [
              "<Figure size 640x480 with 1 Axes>"
            ],
            "image/png": "[encoded data removed]"
          },
          "metadata": {}
        }
      ],
      "source": [
        "#norm_sample = stats.norm.rvs(size=n,loc=mu,scale=sigma)\n",
        "F_hat = stats.ecdf(norm_sample)\n",
        "x = F_hat.cdf.quantiles\n",
        "F = F_hat.cdf.probabilities\n",
        "\n",
        "alpha = 0.05  #0.5\n",
        "low,up = confidence_interval_dkw(F_hat.cdf,alpha=alpha)\n",
        "\n",
        "\n",
        "ax = plt.subplot()\n",
        "F_hat.cdf.plot(ax,label=r'$\\hat{F_n}(x)$')\n",
        "ax.step(x,low,'r--',alpha=0.5,where='post',label='IC {}'.format(1-alpha))\n",
        "ax.step(x,up,'r--',alpha=0.5,where='post')\n",
        "ax.plot(x,stats.norm.cdf(x),color='g',label='F~N(0,1)')\n",
        "ax.set_xlabel('x')\n",
        "ax.set_ylabel(r'$\\hat{F_n}(x)$')\n",
        "plt.title('Función de distribución empírica')\n",
        "plt.legend()"
      ]
    },
    {
      "cell_type": "markdown",
      "metadata": {
        "id": "GOL6Q66g903J"
      },
      "source": [
        "### Ejercicio\n",
        "Repetir el experimento 1000 veces con un IC de nivel 0.95 y registrar en cuántos casos el intervalo de confianza contiene **completamente** la función de distribución verdadera."
      ]
    },
    {
      "cell_type": "code",
      "source": [
        "#ejercicio"
      ],
      "metadata": {
        "id": "JMUMz2haY-tB"
      },
      "execution_count": null,
      "outputs": []
    },
    {
      "cell_type": "markdown",
      "metadata": {
        "id": "kPoBeJ86JzCN"
      },
      "source": [
        "### Error y desvío estándar de $\\hat{\\mu}$\n",
        "Particularmente para el estimador del promedio $\\hat{\\mu} = \\bar{X_n}$ podemos calcular su desvío estándar, ya que es el error estándar del promedio muestral.\n",
        "\n",
        "$$\\text{se}(\\hat{\\mu}) = \\sqrt{\\text{var}(\\bar{X_n})} = \\frac{\\sigma}{\\sqrt{n}} $$\n",
        "\n",
        "donde $\\sigma$ es el desvío estándar de $X\\sim F$.\n",
        "\n",
        "Por lo tanto, para estimar $\\text{se}(\\hat{\\mu})$, reemplazamos $\\sigma$ por $\\hat{\\sigma} = \\sqrt{\\frac{1}{n}\\sum_{i=1}^{n}(X_i-\\bar{X_n})^{2}}$, el desvío estándar muestral.\n",
        "\n",
        "También podemos estimar un intervalo de confianza de nivel $1-\\alpha$ para $\\hat{\\mu}$ como\n",
        "$$\\hat{\\text{IC}}(\\hat{\\mu}) = \\hat{\\mu} \\pm z_{\\frac{\\alpha}{2}}\\hat{\\text{se}} $$"
      ]
    },
    {
      "cell_type": "code",
      "execution_count": 47,
      "metadata": {
        "colab": {
          "base_uri": "https://localhost:8080/"
        },
        "id": "KNH6CgGCNGV5",
        "outputId": "49c56488-a05d-41ba-c5e8-7053caf788a0"
      },
      "outputs": [
        {
          "output_type": "stream",
          "name": "stdout",
          "text": [
            "promedio = 1.3266262008063494\n",
            "error estándar del promedio = 0.35480020288226866\n",
            "IC =  [np.float64(0.6312305814495985), np.float64(2.0220218201631)]\n"
          ]
        }
      ],
      "source": [
        "mean = np.mean(sample)\n",
        "se_mean = std/np.sqrt(n)\n",
        "\n",
        "alpha = 0.05\n",
        "low = mean - stats.norm.ppf(1-alpha/2)*se_mean\n",
        "up = mean + stats.norm.ppf(1-alpha/2)*se_mean\n",
        "\n",
        "print('promedio =',mean)\n",
        "print('error estándar del promedio =',se_mean)\n",
        "print('IC = ',[low,up])"
      ]
    },
    {
      "cell_type": "markdown",
      "source": [],
      "metadata": {
        "id": "2gNbtZypHNQ0"
      }
    },
    {
      "cell_type": "markdown",
      "metadata": {
        "id": "7VZYg6MBVwpC"
      },
      "source": [
        "### Ejercicio comparación de dos muestras\n",
        "\n",
        "Tenemos muestras de tamaños de cráneos masculinos encontrados en Egipto que corresponden a dos épocas distintas. Los datos vienen de [este repositorio](https://dasl.datadescription.com/datafile/egyptians/?_sfm_methods=Comparing+Groups&_sfm_cases=4+59943).\n",
        "\n",
        "Queremos saber si la media de los cráneos es la misma o cambió de una época a la otra. Para eso, hallar un estimador de $\\theta = \\mu_1-\\mu_2$ y proporcionar un error estándar y un interavalo de confianza para este estimador. Decidir si son distintos o no"
      ]
    },
    {
      "cell_type": "code",
      "execution_count": null,
      "metadata": {
        "id": "XfrqCWLONxjy",
        "outputId": "92e63869-ece4-4d1c-dfe0-a5f111344619"
      },
      "outputs": [
        {
          "data": {
            "text/plain": [
              "Text(0.5, 0, 'Tamaño de cráneos')"
            ]
          },
          "execution_count": 17,
          "metadata": {},
          "output_type": "execute_result"
        },
        {
          "data": {
            "image/png": "[encoded data removed]",
            "text/plain": [
              "<Figure size 640x480 with 1 Axes>"
            ]
          },
          "metadata": {},
          "output_type": "display_data"
        }
      ],
      "source": []
    },
    {
      "cell_type": "code",
      "source": [],
      "metadata": {
        "id": "-rwO8f6vGx2x"
      },
      "execution_count": null,
      "outputs": []
    }
  ]
}