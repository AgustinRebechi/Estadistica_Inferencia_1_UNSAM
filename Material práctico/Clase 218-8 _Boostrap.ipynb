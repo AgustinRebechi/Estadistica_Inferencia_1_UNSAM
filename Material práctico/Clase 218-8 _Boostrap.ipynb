{
  "nbformat": 4,
  "nbformat_minor": 0,
  "metadata": {
    "colab": {
      "provenance": []
    },
    "kernelspec": {
      "name": "python3",
      "display_name": "Python 3"
    },
    "language_info": {
      "name": "python"
    }
  },
  "cells": [
    {
      "cell_type": "code",
      "execution_count": 1,
      "metadata": {
        "id": "6EXhhhvWnfoE"
      },
      "outputs": [],
      "source": [
        "import numpy as np\n",
        "import matplotlib.pyplot as plt\n",
        "from scipy import stats\n",
        "import pandas as pd"
      ]
    },
    {
      "cell_type": "code",
      "source": [
        "from google.colab import drive\n",
        "drive.mount('/content/drive')"
      ],
      "metadata": {
        "colab": {
          "base_uri": "https://localhost:8080/"
        },
        "id": "Uu2dyl8WlPk7",
        "outputId": "099e3e4a-445a-4cf5-9535-b2d5b23094a7"
      },
      "execution_count": 2,
      "outputs": [
        {
          "output_type": "stream",
          "name": "stdout",
          "text": [
            "Mounted at /content/drive\n"
          ]
        }
      ]
    },
    {
      "cell_type": "code",
      "source": [
        "datos = pd.read_csv('/content/drive/My Drive/Datos/california_housing_train.csv', delimiter=',')"
      ],
      "metadata": {
        "id": "03Xx8D1glbj0"
      },
      "execution_count": 3,
      "outputs": []
    },
    {
      "cell_type": "code",
      "source": [
        "datos.head()"
      ],
      "metadata": {
        "colab": {
          "base_uri": "https://localhost:8080/",
          "height": 206
        },
        "id": "XQIdQ7W9U0Eo",
        "outputId": "91fa0915-67c1-4756-be5b-352a31ab5874"
      },
      "execution_count": 4,
      "outputs": [
        {
          "output_type": "execute_result",
          "data": {
            "text/plain": [
              "   longitude  latitude  housingMedianAge  totalRooms  totalBedrooms  \\\n",
              "0    -114.31     34.19                15        5612           1283   \n",
              "1    -114.47     34.40                19        7650           1901   \n",
              "2    -114.56     33.69                17         720            174   \n",
              "3    -114.57     33.64                14        1501            337   \n",
              "4    -114.57     33.57                20        1454            326   \n",
              "\n",
              "   population  households  medianIncome  medianHouseValue  \n",
              "0        1015         472        1.4936             66900  \n",
              "1        1129         463        1.8200             80100  \n",
              "2         333         117        1.6509             85700  \n",
              "3         515         226        3.1917             73400  \n",
              "4         624         262        1.9250             65500  "
            ],
            "text/html": [
              "\n",
              "  <div id=\"df-9f0f0dd2-c1a8-43b4-9b9b-056d4eb4662e\" class=\"colab-df-container\">\n",
              "    <div>\n",
              "<style scoped>\n",
              "    .dataframe tbody tr th:only-of-type {\n",
              "        vertical-align: middle;\n",
              "    }\n",
              "\n",
              "    .dataframe tbody tr th {\n",
              "        vertical-align: top;\n",
              "    }\n",
              "\n",
              "    .dataframe thead th {\n",
              "        text-align: right;\n",
              "    }\n",
              "</style>\n",
              "<table border=\"1\" class=\"dataframe\">\n",
              "  <thead>\n",
              "    <tr style=\"text-align: right;\">\n",
              "      <th></th>\n",
              "      <th>longitude</th>\n",
              "      <th>latitude</th>\n",
              "      <th>housingMedianAge</th>\n",
              "      <th>totalRooms</th>\n",
              "      <th>totalBedrooms</th>\n",
              "      <th>population</th>\n",
              "      <th>households</th>\n",
              "      <th>medianIncome</th>\n",
              "      <th>medianHouseValue</th>\n",
              "    </tr>\n",
              "  </thead>\n",
              "  <tbody>\n",
              "    <tr>\n",
              "      <th>0</th>\n",
              "      <td>-114.31</td>\n",
              "      <td>34.19</td>\n",
              "      <td>15</td>\n",
              "      <td>5612</td>\n",
              "      <td>1283</td>\n",
              "      <td>1015</td>\n",
              "      <td>472</td>\n",
              "      <td>1.4936</td>\n",
              "      <td>66900</td>\n",
              "    </tr>\n",
              "    <tr>\n",
              "      <th>1</th>\n",
              "      <td>-114.47</td>\n",
              "      <td>34.40</td>\n",
              "      <td>19</td>\n",
              "      <td>7650</td>\n",
              "      <td>1901</td>\n",
              "      <td>1129</td>\n",
              "      <td>463</td>\n",
              "      <td>1.8200</td>\n",
              "      <td>80100</td>\n",
              "    </tr>\n",
              "    <tr>\n",
              "      <th>2</th>\n",
              "      <td>-114.56</td>\n",
              "      <td>33.69</td>\n",
              "      <td>17</td>\n",
              "      <td>720</td>\n",
              "      <td>174</td>\n",
              "      <td>333</td>\n",
              "      <td>117</td>\n",
              "      <td>1.6509</td>\n",
              "      <td>85700</td>\n",
              "    </tr>\n",
              "    <tr>\n",
              "      <th>3</th>\n",
              "      <td>-114.57</td>\n",
              "      <td>33.64</td>\n",
              "      <td>14</td>\n",
              "      <td>1501</td>\n",
              "      <td>337</td>\n",
              "      <td>515</td>\n",
              "      <td>226</td>\n",
              "      <td>3.1917</td>\n",
              "      <td>73400</td>\n",
              "    </tr>\n",
              "    <tr>\n",
              "      <th>4</th>\n",
              "      <td>-114.57</td>\n",
              "      <td>33.57</td>\n",
              "      <td>20</td>\n",
              "      <td>1454</td>\n",
              "      <td>326</td>\n",
              "      <td>624</td>\n",
              "      <td>262</td>\n",
              "      <td>1.9250</td>\n",
              "      <td>65500</td>\n",
              "    </tr>\n",
              "  </tbody>\n",
              "</table>\n",
              "</div>\n",
              "    <div class=\"colab-df-buttons\">\n",
              "\n",
              "  <div class=\"colab-df-container\">\n",
              "    <button class=\"colab-df-convert\" onclick=\"convertToInteractive('df-9f0f0dd2-c1a8-43b4-9b9b-056d4eb4662e')\"\n",
              "            title=\"Convert this dataframe to an interactive table.\"\n",
              "            style=\"display:none;\">\n",
              "\n",
              "  <svg xmlns=\"http://www.w3.org/2000/svg\" height=\"24px\" viewBox=\"0 -960 960 960\">\n",
              "    <path d=\"M120-120v-720h720v720H120Zm60-500h600v-160H180v160Zm220 220h160v-160H400v160Zm0 220h160v-160H400v160ZM180-400h160v-160H180v160Zm440 0h160v-160H620v160ZM180-180h160v-160H180v160Zm440 0h160v-160H620v160Z\"/>\n",
              "  </svg>\n",
              "    </button>\n",
              "\n",
              "  <style>\n",
              "    .colab-df-container {\n",
              "      display:flex;\n",
              "      gap: 12px;\n",
              "    }\n",
              "\n",
              "    .colab-df-convert {\n",
              "      background-color: #E8F0FE;\n",
              "      border: none;\n",
              "      border-radius: 50%;\n",
              "      cursor: pointer;\n",
              "      display: none;\n",
              "      fill: #1967D2;\n",
              "      height: 32px;\n",
              "      padding: 0 0 0 0;\n",
              "      width: 32px;\n",
              "    }\n",
              "\n",
              "    .colab-df-convert:hover {\n",
              "      background-color: #E2EBFA;\n",
              "      box-shadow: 0px 1px 2px rgba(60, 64, 67, 0.3), 0px 1px 3px 1px rgba(60, 64, 67, 0.15);\n",
              "      fill: #174EA6;\n",
              "    }\n",
              "\n",
              "    .colab-df-buttons div {\n",
              "      margin-bottom: 4px;\n",
              "    }\n",
              "\n",
              "    [theme=dark] .colab-df-convert {\n",
              "      background-color: #3B4455;\n",
              "      fill: #D2E3FC;\n",
              "    }\n",
              "\n",
              "    [theme=dark] .colab-df-convert:hover {\n",
              "      background-color: #434B5C;\n",
              "      box-shadow: 0px 1px 3px 1px rgba(0, 0, 0, 0.15);\n",
              "      filter: drop-shadow(0px 1px 2px rgba(0, 0, 0, 0.3));\n",
              "      fill: #FFFFFF;\n",
              "    }\n",
              "  </style>\n",
              "\n",
              "    <script>\n",
              "      const buttonEl =\n",
              "        document.querySelector('#df-9f0f0dd2-c1a8-43b4-9b9b-056d4eb4662e button.colab-df-convert');\n",
              "      buttonEl.style.display =\n",
              "        google.colab.kernel.accessAllowed ? 'block' : 'none';\n",
              "\n",
              "      async function convertToInteractive(key) {\n",
              "        const element = document.querySelector('#df-9f0f0dd2-c1a8-43b4-9b9b-056d4eb4662e');\n",
              "        const dataTable =\n",
              "          await google.colab.kernel.invokeFunction('convertToInteractive',\n",
              "                                                    [key], {});\n",
              "        if (!dataTable) return;\n",
              "\n",
              "        const docLinkHtml = 'Like what you see? Visit the ' +\n",
              "          '<a target=\"_blank\" href=https://colab.research.google.com/notebooks/data_table.ipynb>data table notebook</a>'\n",
              "          + ' to learn more about interactive tables.';\n",
              "        element.innerHTML = '';\n",
              "        dataTable['output_type'] = 'display_data';\n",
              "        await google.colab.output.renderOutput(dataTable, element);\n",
              "        const docLink = document.createElement('div');\n",
              "        docLink.innerHTML = docLinkHtml;\n",
              "        element.appendChild(docLink);\n",
              "      }\n",
              "    </script>\n",
              "  </div>\n",
              "\n",
              "\n",
              "    <div id=\"df-20aba62a-e5a7-4d33-a743-b79f94b876ad\">\n",
              "      <button class=\"colab-df-quickchart\" onclick=\"quickchart('df-20aba62a-e5a7-4d33-a743-b79f94b876ad')\"\n",
              "                title=\"Suggest charts\"\n",
              "                style=\"display:none;\">\n",
              "\n",
              "<svg xmlns=\"http://www.w3.org/2000/svg\" height=\"24px\"viewBox=\"0 0 24 24\"\n",
              "     width=\"24px\">\n",
              "    <g>\n",
              "        <path d=\"M19 3H5c-1.1 0-2 .9-2 2v14c0 1.1.9 2 2 2h14c1.1 0 2-.9 2-2V5c0-1.1-.9-2-2-2zM9 17H7v-7h2v7zm4 0h-2V7h2v10zm4 0h-2v-4h2v4z\"/>\n",
              "    </g>\n",
              "</svg>\n",
              "      </button>\n",
              "\n",
              "<style>\n",
              "  .colab-df-quickchart {\n",
              "      --bg-color: #E8F0FE;\n",
              "      --fill-color: #1967D2;\n",
              "      --hover-bg-color: #E2EBFA;\n",
              "      --hover-fill-color: #174EA6;\n",
              "      --disabled-fill-color: #AAA;\n",
              "      --disabled-bg-color: #DDD;\n",
              "  }\n",
              "\n",
              "  [theme=dark] .colab-df-quickchart {\n",
              "      --bg-color: #3B4455;\n",
              "      --fill-color: #D2E3FC;\n",
              "      --hover-bg-color: #434B5C;\n",
              "      --hover-fill-color: #FFFFFF;\n",
              "      --disabled-bg-color: #3B4455;\n",
              "      --disabled-fill-color: #666;\n",
              "  }\n",
              "\n",
              "  .colab-df-quickchart {\n",
              "    background-color: var(--bg-color);\n",
              "    border: none;\n",
              "    border-radius: 50%;\n",
              "    cursor: pointer;\n",
              "    display: none;\n",
              "    fill: var(--fill-color);\n",
              "    height: 32px;\n",
              "    padding: 0;\n",
              "    width: 32px;\n",
              "  }\n",
              "\n",
              "  .colab-df-quickchart:hover {\n",
              "    background-color: var(--hover-bg-color);\n",
              "    box-shadow: 0 1px 2px rgba(60, 64, 67, 0.3), 0 1px 3px 1px rgba(60, 64, 67, 0.15);\n",
              "    fill: var(--button-hover-fill-color);\n",
              "  }\n",
              "\n",
              "  .colab-df-quickchart-complete:disabled,\n",
              "  .colab-df-quickchart-complete:disabled:hover {\n",
              "    background-color: var(--disabled-bg-color);\n",
              "    fill: var(--disabled-fill-color);\n",
              "    box-shadow: none;\n",
              "  }\n",
              "\n",
              "  .colab-df-spinner {\n",
              "    border: 2px solid var(--fill-color);\n",
              "    border-color: transparent;\n",
              "    border-bottom-color: var(--fill-color);\n",
              "    animation:\n",
              "      spin 1s steps(1) infinite;\n",
              "  }\n",
              "\n",
              "  @keyframes spin {\n",
              "    0% {\n",
              "      border-color: transparent;\n",
              "      border-bottom-color: var(--fill-color);\n",
              "      border-left-color: var(--fill-color);\n",
              "    }\n",
              "    20% {\n",
              "      border-color: transparent;\n",
              "      border-left-color: var(--fill-color);\n",
              "      border-top-color: var(--fill-color);\n",
              "    }\n",
              "    30% {\n",
              "      border-color: transparent;\n",
              "      border-left-color: var(--fill-color);\n",
              "      border-top-color: var(--fill-color);\n",
              "      border-right-color: var(--fill-color);\n",
              "    }\n",
              "    40% {\n",
              "      border-color: transparent;\n",
              "      border-right-color: var(--fill-color);\n",
              "      border-top-color: var(--fill-color);\n",
              "    }\n",
              "    60% {\n",
              "      border-color: transparent;\n",
              "      border-right-color: var(--fill-color);\n",
              "    }\n",
              "    80% {\n",
              "      border-color: transparent;\n",
              "      border-right-color: var(--fill-color);\n",
              "      border-bottom-color: var(--fill-color);\n",
              "    }\n",
              "    90% {\n",
              "      border-color: transparent;\n",
              "      border-bottom-color: var(--fill-color);\n",
              "    }\n",
              "  }\n",
              "</style>\n",
              "\n",
              "      <script>\n",
              "        async function quickchart(key) {\n",
              "          const quickchartButtonEl =\n",
              "            document.querySelector('#' + key + ' button');\n",
              "          quickchartButtonEl.disabled = true;  // To prevent multiple clicks.\n",
              "          quickchartButtonEl.classList.add('colab-df-spinner');\n",
              "          try {\n",
              "            const charts = await google.colab.kernel.invokeFunction(\n",
              "                'suggestCharts', [key], {});\n",
              "          } catch (error) {\n",
              "            console.error('Error during call to suggestCharts:', error);\n",
              "          }\n",
              "          quickchartButtonEl.classList.remove('colab-df-spinner');\n",
              "          quickchartButtonEl.classList.add('colab-df-quickchart-complete');\n",
              "        }\n",
              "        (() => {\n",
              "          let quickchartButtonEl =\n",
              "            document.querySelector('#df-20aba62a-e5a7-4d33-a743-b79f94b876ad button');\n",
              "          quickchartButtonEl.style.display =\n",
              "            google.colab.kernel.accessAllowed ? 'block' : 'none';\n",
              "        })();\n",
              "      </script>\n",
              "    </div>\n",
              "\n",
              "    </div>\n",
              "  </div>\n"
            ],
            "application/vnd.google.colaboratory.intrinsic+json": {
              "type": "dataframe",
              "variable_name": "datos",
              "summary": "{\n  \"name\": \"datos\",\n  \"rows\": 17000,\n  \"fields\": [\n    {\n      \"column\": \"longitude\",\n      \"properties\": {\n        \"dtype\": \"number\",\n        \"std\": 2.005166408426173,\n        \"min\": -124.35,\n        \"max\": -114.31,\n        \"num_unique_values\": 827,\n        \"samples\": [\n          -117.56,\n          -123.32,\n          -118.26\n        ],\n        \"semantic_type\": \"\",\n        \"description\": \"\"\n      }\n    },\n    {\n      \"column\": \"latitude\",\n      \"properties\": {\n        \"dtype\": \"number\",\n        \"std\": 2.1373397946570734,\n        \"min\": 32.54,\n        \"max\": 41.95,\n        \"num_unique_values\": 840,\n        \"samples\": [\n          38.44,\n          40.79,\n          32.69\n        ],\n        \"semantic_type\": \"\",\n        \"description\": \"\"\n      }\n    },\n    {\n      \"column\": \"housingMedianAge\",\n      \"properties\": {\n        \"dtype\": \"number\",\n        \"std\": 12,\n        \"min\": 1,\n        \"max\": 52,\n        \"num_unique_values\": 52,\n        \"samples\": [\n          23,\n          52,\n          47\n        ],\n        \"semantic_type\": \"\",\n        \"description\": \"\"\n      }\n    },\n    {\n      \"column\": \"totalRooms\",\n      \"properties\": {\n        \"dtype\": \"number\",\n        \"std\": 2179,\n        \"min\": 2,\n        \"max\": 37937,\n        \"num_unique_values\": 5533,\n        \"samples\": [\n          3564,\n          6955,\n          5451\n        ],\n        \"semantic_type\": \"\",\n        \"description\": \"\"\n      }\n    },\n    {\n      \"column\": \"totalBedrooms\",\n      \"properties\": {\n        \"dtype\": \"number\",\n        \"std\": 421,\n        \"min\": 1,\n        \"max\": 6445,\n        \"num_unique_values\": 1848,\n        \"samples\": [\n          729,\n          719,\n          2075\n        ],\n        \"semantic_type\": \"\",\n        \"description\": \"\"\n      }\n    },\n    {\n      \"column\": \"population\",\n      \"properties\": {\n        \"dtype\": \"number\",\n        \"std\": 1147,\n        \"min\": 3,\n        \"max\": 35682,\n        \"num_unique_values\": 3683,\n        \"samples\": [\n          249,\n          1735,\n          235\n        ],\n        \"semantic_type\": \"\",\n        \"description\": \"\"\n      }\n    },\n    {\n      \"column\": \"households\",\n      \"properties\": {\n        \"dtype\": \"number\",\n        \"std\": 384,\n        \"min\": 1,\n        \"max\": 6082,\n        \"num_unique_values\": 1740,\n        \"samples\": [\n          390,\n          1089,\n          1351\n        ],\n        \"semantic_type\": \"\",\n        \"description\": \"\"\n      }\n    },\n    {\n      \"column\": \"medianIncome\",\n      \"properties\": {\n        \"dtype\": \"number\",\n        \"std\": 1.908156518379093,\n        \"min\": 0.4999,\n        \"max\": 15.0001,\n        \"num_unique_values\": 11175,\n        \"samples\": [\n          7.2655,\n          5.6293,\n          4.2262\n        ],\n        \"semantic_type\": \"\",\n        \"description\": \"\"\n      }\n    },\n    {\n      \"column\": \"medianHouseValue\",\n      \"properties\": {\n        \"dtype\": \"number\",\n        \"std\": 115983,\n        \"min\": 14999,\n        \"max\": 500001,\n        \"num_unique_values\": 3694,\n        \"samples\": [\n          162300,\n          346800,\n          116700\n        ],\n        \"semantic_type\": \"\",\n        \"description\": \"\"\n      }\n    }\n  ]\n}"
            }
          },
          "metadata": {},
          "execution_count": 4
        }
      ]
    },
    {
      "cell_type": "code",
      "execution_count": 5,
      "metadata": {
        "colab": {
          "base_uri": "https://localhost:8080/",
          "height": 559
        },
        "id": "Twu5dmvlniz3",
        "outputId": "67af7e77-f893-4202-a418-1c646344024c",
        "collapsed": true
      },
      "outputs": [
        {
          "output_type": "execute_result",
          "data": {
            "text/plain": [
              "(array([14., 25., 20., 18.,  6.,  5.,  5.,  2.,  2.,  0.,  1.,  0.,  0.,\n",
              "         1.,  1.]),\n",
              " array([ 202.        ,  604.66666667, 1007.33333333, 1410.        ,\n",
              "        1812.66666667, 2215.33333333, 2618.        , 3020.66666667,\n",
              "        3423.33333333, 3826.        , 4228.66666667, 4631.33333333,\n",
              "        5034.        , 5436.66666667, 5839.33333333, 6242.        ]),\n",
              " <BarContainer object of 15 artists>)"
            ]
          },
          "metadata": {},
          "execution_count": 5
        },
        {
          "output_type": "display_data",
          "data": {
            "text/plain": [
              "<Figure size 640x480 with 1 Axes>"
            ],
            "image/png": "[encoded data removed]"
          },
          "metadata": {}
        }
      ],
      "source": [
        "n = 100\n",
        "sample_data = datos['population'].sample(n=n)  # serie de pandas\n",
        "sample = sample_data.values                    # array de numpy\n",
        "plt.hist(sample,bins='auto')"
      ]
    },
    {
      "cell_type": "markdown",
      "metadata": {
        "id": "23INdUDgzHT9"
      },
      "source": [
        "Vimos que si estimamos la distribución de los datos $F$ con la distribución empírica $\\hat{F_n}$, podemos estimar cualquier funcional estadístico con su contraparte muestral.\n",
        "\n",
        "Particularmente, el estimador del estadístico **media** $T(F) = \\mu$ es el promedio muestral: $$\\hat{\\mu} = \\bar{X_n} = \\frac{1}{n}\\sum_{i=1}^{n}X_i$$ y podemos calcular facilmente su desvío estándar, ya que es el error estándar del promedio muestral:\n",
        "\n",
        "\n",
        "$$\\text{se}(\\hat{\\mu}) = \\sqrt{\\text{var}(\\bar{X_n})} = \\frac{\\sigma}{\\sqrt{n}} $$\n",
        "\n",
        "donde $\\sigma$ es el desvío estándar de $X\\sim F$. Por lo tanto, para estimar $\\text{se}(\\hat{\\mu})$, reemplazamos $\\sigma$ por $\\hat{\\sigma} = \\sqrt{\\frac{1}{n}\\sum_{i=1}^{n}(X_i-\\bar{X_n})^{2}}$, el desvío estándar muestral.\n",
        "\n",
        "También podemos estimar un intervalo de confianza de nivel $1-\\alpha$ para $\\hat{\\mu}$ como\n",
        "$$\\hat{\\text{IC}}(\\mu) = \\hat{\\mu} \\pm z_{\\frac{\\alpha}{2}}\\hat{\\text{se}}(\\hat{\\mu}) $$"
      ]
    },
    {
      "cell_type": "code",
      "execution_count": 6,
      "metadata": {
        "colab": {
          "base_uri": "https://localhost:8080/"
        },
        "id": "OFUvSske0XaW",
        "outputId": "d3256068-8c6c-42d0-c12f-f3705d583438"
      },
      "outputs": [
        {
          "output_type": "stream",
          "name": "stdout",
          "text": [
            "µ_hat = 1500.39\n",
            "se(µ) = 105.07916624621649\n",
            "IC(µ) =  [np.float64(1294.4386186319189), np.float64(1706.3413813680813)]\n"
          ]
        }
      ],
      "source": [
        "mean = np.mean(sample)    #Calculo el promedio muestral\n",
        "std = np.std(sample)      #Calculo el desvío estándar muestral\n",
        "se_mean = std/np.sqrt(n)  #Calculo el error estándar del promedio muestral\n",
        "\n",
        "\n",
        "#Calculo el intervalo de confianza asintótico para la media\n",
        "alpha = 0.05\n",
        "low = mean - stats.norm.ppf(1-alpha/2)*se_mean\n",
        "up = mean + stats.norm.ppf(1-alpha/2)*se_mean\n",
        "\n",
        "print('µ_hat =',mean)\n",
        "print('se(µ) =',se_mean)\n",
        "print('IC(µ) = ',[low,up])"
      ]
    },
    {
      "cell_type": "markdown",
      "metadata": {
        "id": "MS-Sywgd1FU4"
      },
      "source": [
        "Ahora, ¿cómo calculo el error estándar y los intervalos de confianza para otros estadísticos?"
      ]
    },
    {
      "cell_type": "markdown",
      "metadata": {
        "id": "NmcjwJk68bbK"
      },
      "source": [
        "# Bootstrap\n",
        "\n",
        "Recordemos que estamos estimando la distribución subyacente a los datos $F$ con la función de distribución empírica $\\hat{F_n}$. Como $\\hat{F_n}$ le asigna una probabilidad puntual $1/n$ a cada $X_i$,\n",
        "$\\Rightarrow$\n",
        "**tomar una observación de $\\hat{F_n}$ equivale a tomar una observación al azar de la muestra original $X_1,...,X_n$**.\n",
        "\n",
        "Entonces el método de bootstrap es simplemente seguir los siguientes pasos:\n",
        "\n",
        "\n",
        "\n",
        "1.   Simulo una muestra $X_1^{*},...,X_n^{*} \\sim \\hat{F_n}$ tomando $n$ observaciones con reemplazo de $X_1,...,X_n$\n",
        "2.   Calculo el funcional estadístico muestral deseado $T^{*}(\\hat{F_n})$ a partir de $X_1^{*},...,X_n^{*}$\n",
        "3. Repito **1.** y **2.** $m$ veces. Obtengo una muestra de $m$ valores de $T^{*}(\\hat{F_n})$\n",
        "4. Un estimador de la varianza de $\\hat{\\theta}_n = T(\\hat{F_n})$ es la varianza muestral de $T^{*}(\\hat{F_n})_m$. Es decir,\n",
        "\n",
        "$$ v_{boot} (\\hat{\\theta}_n) = \\frac{1}{m}\\sum_{j=1}^{m} (T^{*}_{n,j} - \\frac{1}{m}\\sum_{i=1}^{m} T^{*}_{n,i} )^2$$\n",
        "y\n",
        "$$\\hat{\\text{se}} = \\text{se}_{boot} =  \\sqrt{v_{boot}}$$\n",
        "\n",
        "5. A partir de la muestra de bootstrap podemos estimar un intervalo de confianza para $T(F)$ de varias maneras"
      ]
    },
    {
      "cell_type": "markdown",
      "metadata": {
        "id": "FLg7TC-NFgL_"
      },
      "source": [
        "## Intervalos de confianza\n",
        "\n",
        "de nivel $1-\\alpha$ para el estimador de un estadístico $\\hat{\\theta}_n$\n",
        "\n",
        "\n",
        "---\n",
        "\n",
        "\n",
        "\n",
        "1. Intervalo normal: $$\\text{IC} = \\hat{\\theta}_n \\pm z_{\\frac{\\alpha}{2}}\\text{se}_{boot}$$\n",
        "\n",
        "\n",
        "2. Percentile bootstrap: $$\\text{IC} = (\\hat{\\theta}^*_{\\frac{\\alpha}{2}},\\hat{\\theta}^*_{1-\\frac{\\alpha}{2}}) $$\n",
        "\n",
        "donde $\\hat{\\theta}^*_{\\beta}$ es el $\\beta$-percentil muestral de la muestra de bootstrap de $\\hat{\\theta}_{n,m}$\n",
        "\n",
        "\n",
        "3. Basic bootstrap (intervalo pivotal): $$\\text{IC} = (2\\hat{\\theta}_n - \\hat{\\theta}^*_{1-\\frac{\\alpha}{2}}, 2\\hat{\\theta}_n - \\hat{\\theta}^*_{\\frac{\\alpha}{2}}) $$\n",
        "\n",
        "4. BCa bootsrap (*'bias-corrected and accelerated'*).\n",
        "\n",
        "Es el que usa ``scipy.stats`` por default. Toma un IC de percentile bootstrap y le mete un factor que depende de dos parámetros: un 'parámetro de aceleración' $a$ y un 'factor de corrección de sesgo' $z_0$, que tiene que estimar\n",
        "\n"
      ]
    },
    {
      "cell_type": "code",
      "execution_count": 7,
      "metadata": {
        "colab": {
          "base_uri": "https://localhost:8080/"
        },
        "id": "-dPggKIvy3RZ",
        "outputId": "59ed2cf7-5114-4151-d197-2a4e54353d4b"
      },
      "outputs": [
        {
          "output_type": "stream",
          "name": "stdout",
          "text": [
            "media = 1500.39\n",
            "mediana = 1216.0\n",
            "std = 1050.7916624621648\n",
            "25-cuartil = 835.5\n",
            "asimetría =  2.036564578588509\n",
            "correlación con Y:latitud = -0.08673309838552941\n"
          ]
        }
      ],
      "source": [
        "# algunas características muestrales\n",
        "mean = np.mean(sample)       #promedio\n",
        "var = np.var(sample)         #varianza\n",
        "std = np.std(sample)         #desvío estándar (sqrt(var))\n",
        "median = np.median(sample)   #mediana\n",
        "quantile = np.quantile(sample,q = 0.25) #cuantiles\n",
        "skewness = stats.skew(sample) #asimetría\n",
        "#asimentria: si es negativa, tiene una cola más larga a la izquierda; positiva, a la derecha\n",
        "\n",
        "#correlación\n",
        "sample_id = sample_data.index\n",
        "sample_2 = datos.loc[sample_id, 'latitude'].values\n",
        "correlation = stats.pearsonr(sample,sample_2).statistic\n",
        "\n",
        "print('media =',mean)\n",
        "print('mediana =',median)\n",
        "print('std =',std)\n",
        "print('25-cuartil =',quantile)\n",
        "print('asimetría = ',skewness)\n",
        "print('correlación con Y:latitud =',correlation)"
      ]
    },
    {
      "cell_type": "code",
      "source": [
        "sample = (sample,) # convierto la muestra en tupla para stats.bootstrap\n",
        "alpha = 0.05\n",
        "boot_res = stats.bootstrap(sample, np.std, confidence_level=1-alpha)\n",
        "# param: muestra, estadistico, nivel de confianza"
      ],
      "metadata": {
        "id": "RWGBJCYv0qiw"
      },
      "execution_count": 8,
      "outputs": []
    },
    {
      "cell_type": "code",
      "source": [
        "#grafico la distribución de bootstrap\n",
        "fig, ax = plt.subplots()\n",
        "ax.hist(boot_res.bootstrap_distribution, bins='auto',density=True)\n",
        "ax.set_title('Bootstrap Distribution')\n",
        "ax.set_xlabel(r'$\\sigma$')\n",
        "plt.show()"
      ],
      "metadata": {
        "colab": {
          "base_uri": "https://localhost:8080/",
          "height": 472
        },
        "id": "HOz0XuaNzjmu",
        "outputId": "3cc10387-1e0e-4963-a3f7-b43dbf2a6e3a"
      },
      "execution_count": 9,
      "outputs": [
        {
          "output_type": "display_data",
          "data": {
            "text/plain": [
              "<Figure size 640x480 with 1 Axes>"
            ],
            "image/png": "[encoded data removed]"
          },
          "metadata": {}
        }
      ]
    },
    {
      "cell_type": "code",
      "source": [
        "len(boot_res.bootstrap_distribution)"
      ],
      "metadata": {
        "colab": {
          "base_uri": "https://localhost:8080/"
        },
        "id": "Vy_uA8MXKjVJ",
        "outputId": "9e5363bc-4b50-4018-d774-2b67e5cf9749"
      },
      "execution_count": 11,
      "outputs": [
        {
          "output_type": "execute_result",
          "data": {
            "text/plain": [
              "9999"
            ]
          },
          "metadata": {},
          "execution_count": 11
        }
      ]
    },
    {
      "cell_type": "code",
      "execution_count": 12,
      "metadata": {
        "colab": {
          "base_uri": "https://localhost:8080/",
          "height": 554
        },
        "id": "FQtV0ob4VGoW",
        "outputId": "34b95040-fbd6-4fa1-84b3-c99833a396ff"
      },
      "outputs": [
        {
          "output_type": "stream",
          "name": "stderr",
          "text": [
            "<>:24: SyntaxWarning: invalid escape sequence '\\h'\n",
            "<>:31: SyntaxWarning: invalid escape sequence '\\h'\n",
            "<>:24: SyntaxWarning: invalid escape sequence '\\h'\n",
            "<>:31: SyntaxWarning: invalid escape sequence '\\h'\n",
            "/tmp/ipython-input-3839520822.py:24: SyntaxWarning: invalid escape sequence '\\h'\n",
            "  plt.axhline(std,color='k',ls='--',label='$\\hat{\\sigma}$',alpha=0.5)\n",
            "/tmp/ipython-input-3839520822.py:31: SyntaxWarning: invalid escape sequence '\\h'\n",
            "  plt.ylabel('$IC(\\hat{\\sigma})$')\n"
          ]
        },
        {
          "output_type": "stream",
          "name": "stdout",
          "text": [
            "IC_normal =  [np.float64(775.464288735818), np.float64(1326.1190361885117)]\n",
            "IC_percentile =  [np.float64(765.8442943258759), np.float64(1313.0426507570837)]\n",
            "IC_basic =  [np.float64(784.9108598094572), np.float64(1335.828119597589)]\n",
            "IC_bca =  [np.float64(828.2356523706306), np.float64(1394.0264673806776)]\n"
          ]
        },
        {
          "output_type": "display_data",
          "data": {
            "text/plain": [
              "<Figure size 500x300 with 1 Axes>"
            ],
            "image/png": "[encoded data removed]"
          },
          "metadata": {}
        }
      ],
      "source": [
        "boot_percentile = stats.bootstrap(sample, np.std, confidence_level=1-alpha,method = 'percentile')\n",
        "boot_basic = stats.bootstrap(sample, np.std, confidence_level=1-alpha,method = 'basic')\n",
        "boot_bca = stats.bootstrap(sample, np.std, confidence_level=1-alpha,method = 'bca')\n",
        "\n",
        "low_percentile = boot_percentile.confidence_interval.low\n",
        "up_percentile = boot_percentile.confidence_interval.high\n",
        "\n",
        "low_basic = boot_basic.confidence_interval.low\n",
        "up_basic = boot_basic.confidence_interval.high\n",
        "\n",
        "low_bca = boot_bca.confidence_interval.low\n",
        "up_bca = boot_bca.confidence_interval.high\n",
        "\n",
        "low_normal = std - stats.norm.ppf(1-alpha/2)*boot_percentile.standard_error #puede ser el error estándar de cualquiera\n",
        "up_normal = std + stats.norm.ppf(1-alpha/2)*boot_percentile.standard_error\n",
        "\n",
        "print('IC_normal = ',[low_normal,up_normal])\n",
        "print('IC_percentile = ',[low_percentile,up_percentile])\n",
        "print('IC_basic = ',[low_basic,up_basic])\n",
        "print('IC_bca = ',[low_bca,up_bca])\n",
        "\n",
        "plt.figure(figsize=(5, 3))\n",
        "interval_names = ['Normal', 'Percentile', 'Basic', 'BCa']\n",
        "plt.axhline(std,color='k',ls='--',label='$\\hat{\\sigma}$',alpha=0.5)\n",
        "plt.plot([1, 1], [low_normal, up_normal],'o-', color='blue')\n",
        "plt.plot([2, 2], [low_percentile, up_percentile],'o-', color='red')\n",
        "plt.plot([3, 3], [low_basic, up_basic],'o-', color='green')\n",
        "plt.plot([4, 4], [low_bca, up_bca],'o-', color='orange')\n",
        "plt.xticks([1,2,3,4],labels=interval_names)\n",
        "plt.xlabel('Tipo de intervalo')\n",
        "plt.ylabel('$IC(\\hat{\\sigma})$')\n",
        "plt.title('Intervalos de confianza')\n",
        "plt.legend()\n",
        "plt.grid()\n",
        "plt.show()"
      ]
    },
    {
      "cell_type": "markdown",
      "metadata": {
        "id": "xiZB6CH8Ct83"
      },
      "source": [
        "### Ejercicio 7\n",
        "\n",
        "- $X_1,...,X_{100} \\sim N(\\mu,1)$\n",
        "- $\\theta = e^{\\mu} \\hspace{1cm} \\hat{\\theta} = e^{\\bar{X}}$\n",
        "- Usando $\\mu = 5$ queremos obtener el error estandar y un IC de nivel 95 para $\\theta$"
      ]
    },
    {
      "cell_type": "code",
      "source": [
        "alpha=0.05\n",
        "n=100\n",
        "mu=5\n",
        "norm_sample = stats.norm.rvs(size=n,loc=mu,scale=1.0)\n",
        "norm_sample = (norm_sample,)\n",
        "\n",
        "def theta_hat(sample):\n",
        "  return np.exp(np.mean(sample))"
      ],
      "metadata": {
        "id": "lWG7JThI-vwj"
      },
      "execution_count": 21,
      "outputs": []
    },
    {
      "cell_type": "code",
      "source": [
        "boot_percentile = stats.bootstrap(norm_sample, theta_hat, confidence_level=1-alpha,method = 'percentile')\n",
        "\n",
        "fig, ax = plt.subplots()\n",
        "ax.hist(boot_percentile.bootstrap_distribution, bins=100)\n",
        "ax.set_title('Bootstrap Distribution')\n",
        "ax.set_xlabel(r'$\\hat{\\theta}=e^{\\bar{x}}$')\n",
        "plt.show()"
      ],
      "metadata": {
        "colab": {
          "base_uri": "https://localhost:8080/",
          "height": 478
        },
        "id": "4Wa_WVe0_5uK",
        "outputId": "b2216c81-f12f-4cc5-8163-244eba08ea66"
      },
      "execution_count": 22,
      "outputs": [
        {
          "output_type": "display_data",
          "data": {
            "text/plain": [
              "<Figure size 640x480 with 1 Axes>"
            ],
            "image/png": "[encoded data removed]"
          },
          "metadata": {}
        }
      ]
    },
    {
      "cell_type": "code",
      "source": [
        "boot_percentile = stats.bootstrap(norm_sample, theta_hat, confidence_level=1-alpha,method = 'percentile')\n",
        "boot_basic = stats.bootstrap(norm_sample, theta_hat, confidence_level=1-alpha,method = 'basic')\n",
        "boot_bca = stats.bootstrap(norm_sample, theta_hat, confidence_level=1-alpha,method = 'bca')\n",
        "\n",
        "print('se= ',boot_percentile.standard_error)\n",
        "\n",
        "low_percentile = boot_percentile.confidence_interval.low\n",
        "up_percentile = boot_percentile.confidence_interval.high\n",
        "\n",
        "low_basic = boot_basic.confidence_interval.low\n",
        "up_basic = boot_basic.confidence_interval.high\n",
        "\n",
        "low_bca = boot_bca.confidence_interval.low\n",
        "up_bca = boot_bca.confidence_interval.high\n",
        "\n",
        "low_normal = theta_hat(norm_sample) - stats.norm.ppf(1-alpha/2)*boot_percentile.standard_error #puede ser el error estándar de cualquiera\n",
        "up_normal = theta_hat(norm_sample) + stats.norm.ppf(1-alpha/2)*boot_percentile.standard_error\n",
        "\n",
        "print('IC_normal = ',[low_normal,up_normal])\n",
        "print('IC_percentile = ',[low_percentile,up_percentile])\n",
        "print('IC_basic = ',[low_basic,up_basic])\n",
        "print('IC_bca = ',[low_bca,up_bca])\n",
        "\n",
        "plt.figure(figsize=(5, 3))\n",
        "interval_names = ['Normal', 'Percentile', 'Basic', 'BCa']\n",
        "plt.axhline(theta_hat(norm_sample),color='k',ls='--',label='$\\hat{\\\\theta}$',alpha=0.5)\n",
        "plt.axhline(np.exp(mu),color='r',ls='--',label='$\\\\theta$',alpha=0.5)\n",
        "plt.plot([1, 1], [low_normal, up_normal],'o-', color='blue')\n",
        "plt.plot([2, 2], [low_percentile, up_percentile],'o-', color='red')\n",
        "plt.plot([3, 3], [low_basic, up_basic],'o-', color='green')\n",
        "plt.plot([4, 4], [low_bca, up_bca],'o-', color='orange')\n",
        "plt.xticks([1,2,3,4],labels=interval_names)\n",
        "plt.xlabel('Tipo de intervalo')\n",
        "plt.ylabel('$IC(\\hat{\\sigma})$')\n",
        "plt.title('Intervalos de confianza')\n",
        "plt.legend()\n",
        "plt.grid()\n",
        "plt.show()"
      ],
      "metadata": {
        "colab": {
          "base_uri": "https://localhost:8080/",
          "height": 573
        },
        "id": "ZyLHhOMER6q1",
        "outputId": "fcdb603a-4368-4efe-efa8-e71cf13b08ab"
      },
      "execution_count": 23,
      "outputs": [
        {
          "output_type": "stream",
          "name": "stderr",
          "text": [
            "<>:26: SyntaxWarning: invalid escape sequence '\\h'\n",
            "<>:34: SyntaxWarning: invalid escape sequence '\\h'\n",
            "<>:26: SyntaxWarning: invalid escape sequence '\\h'\n",
            "<>:34: SyntaxWarning: invalid escape sequence '\\h'\n",
            "/tmp/ipython-input-633204765.py:26: SyntaxWarning: invalid escape sequence '\\h'\n",
            "  plt.axhline(theta_hat(norm_sample),color='k',ls='--',label='$\\hat{\\\\theta}$',alpha=0.5)\n",
            "/tmp/ipython-input-633204765.py:34: SyntaxWarning: invalid escape sequence '\\h'\n",
            "  plt.ylabel('$IC(\\hat{\\sigma})$')\n"
          ]
        },
        {
          "output_type": "stream",
          "name": "stdout",
          "text": [
            "se=  14.806123781967516\n",
            "IC_normal =  [np.float64(138.33702475730703), np.float64(196.37596348390363)]\n",
            "IC_percentile =  [np.float64(140.87338577328677), np.float64(198.71223462266366)]\n",
            "IC_basic =  [np.float64(135.81858370125056), np.float64(194.43724565603975)]\n",
            "IC_bca =  [np.float64(140.0117234890515), np.float64(196.9093183224447)]\n"
          ]
        },
        {
          "output_type": "display_data",
          "data": {
            "text/plain": [
              "<Figure size 500x300 with 1 Axes>"
            ],
            "image/png": "[encoded data removed]"
          },
          "metadata": {}
        }
      ]
    },
    {
      "cell_type": "code",
      "execution_count": 24,
      "metadata": {
        "colab": {
          "base_uri": "https://localhost:8080/",
          "height": 474
        },
        "id": "LTyoJwe5EFL-",
        "outputId": "32b2958e-fefe-4528-a19a-1807f9a34cd8"
      },
      "outputs": [
        {
          "output_type": "execute_result",
          "data": {
            "text/plain": [
              "<matplotlib.legend.Legend at 0x7d50efcd0ec0>"
            ]
          },
          "metadata": {},
          "execution_count": 24
        },
        {
          "output_type": "display_data",
          "data": {
            "text/plain": [
              "<Figure size 640x480 with 1 Axes>"
            ],
            "image/png": "[encoded data removed]"
          },
          "metadata": {}
        }
      ],
      "source": [
        "x = np.linspace(mu-10,mu+10,10000)\n",
        "plt.hist(boot_percentile.bootstrap_distribution,density=True,bins='auto',histtype='step',label='percentile bootstrap')\n",
        "norm_pdf = stats.norm.pdf(x, loc=mu, scale=np.sqrt(1/n))\n",
        "\n",
        "plt.plot(np.exp(x),norm_pdf/np.exp(x),label='distribución verdadera')\n",
        "plt.xlim(np.exp(mu)*0.5,np.exp(mu)*1.5)\n",
        "plt.xlabel(r'$\\hat{\\theta}=e^{\\bar{x}}$')\n",
        "plt.legend()"
      ]
    },
    {
      "cell_type": "code",
      "source": [
        "theta_hat_axis = np.linspace(np.exp(mu)*.5,np.exp(mu)*1.5,10000)\n",
        "numerador_theta_hat_pdf  = stats.norm.pdf(np.log(theta_hat_axis), loc=mu, scale=np.sqrt(1/n))\n",
        "theta_hat_pdf = numerador_theta_hat_pdf / theta_hat_axis\n",
        "\n",
        "plt.hist(boot_percentile.bootstrap_distribution,density=True,bins='auto',histtype='step',label='percentile bootstrap')\n",
        "plt.plot(theta_hat_axis,theta_hat_pdf,label='distribución verdadera')\n",
        "plt.axvline(np.exp(mu), color='red', linestyle='--', label=r'$\\theta$')\n",
        "plt.xlim(np.exp(mu)*0.5,np.exp(mu)*1.5)\n",
        "plt.xlabel(r'$\\hat{\\theta}=e^{\\bar{x}}$')\n",
        "\n",
        "plt.legend()\n",
        "plt.show()"
      ],
      "metadata": {
        "id": "FEQJQ5OF_u-Z"
      },
      "execution_count": null,
      "outputs": []
    },
    {
      "cell_type": "markdown",
      "metadata": {
        "id": "ndreL42tC-DX"
      },
      "source": [
        "¿Por qué pasa esto? ¿ Si corro nuevamente, me da lo mismo?"
      ]
    }
  ]
}