{
 "cells": [
  {
   "metadata": {},
   "cell_type": "markdown",
   "source": [
    "# Ejercicio 9 - Guía 0\n",
    "\n",
    " Paracada 𝑛 entre 1 y 3000,generar observaciones $x_1 ,..., x_n$ de $X_1,. . .,X_n$ v.a iid con distribución exponencial con parámetro 𝜆 = 1/2, con 𝜆 a elección. Luego, obtener ¯ 𝑥𝑛 como la media de estas observaciones, es decir: $$\\widehat{x}_n = \\frac{1}{n} \\sum_{i=1}^{n} X_i  $$\n",
    " Graficar $n\\ vs \\ \\widehat{x}_n $ e interpretar"
   ],
   "id": "8f464b2dc32f81d4"
  },
  {
   "metadata": {
    "collapsed": true
   },
   "cell_type": "code",
   "outputs": [],
   "execution_count": null,
   "source": "",
   "id": "initial_id"
  }
 ],
 "metadata": {
  "kernelspec": {
   "display_name": "Python 3",
   "language": "python",
   "name": "python3"
  },
  "language_info": {
   "codemirror_mode": {
    "name": "ipython",
    "version": 2
   },
   "file_extension": ".py",
   "mimetype": "text/x-python",
   "name": "python",
   "nbconvert_exporter": "python",
   "pygments_lexer": "ipython2",
   "version": "2.7.6"
  }
 },
 "nbformat": 4,
 "nbformat_minor": 5
}
