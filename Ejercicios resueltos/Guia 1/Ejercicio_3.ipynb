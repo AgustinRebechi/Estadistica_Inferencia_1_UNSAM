{
 "cells": [
  {
   "metadata": {},
   "cell_type": "markdown",
   "source": [
    "# Ejercicio 3\n",
    "\n",
    "Aplicaciones (otras distribuciones)"
   ],
   "id": "ff0f038063cfd8d7"
  },
  {
   "metadata": {},
   "cell_type": "markdown",
   "source": [
    "## Punto a\n",
    "\n",
    " El número de muertos en accidentes de tránsito en la Provincia de Buenos Aires en treinta días de 2017 fue:\n",
    " [7, 7, 1, 5, 2, 8, 5, 6, 5, 5, 8, 3, 12, 9, 3, 7, 4,8, 3, 6, 10, 3, 5, 8, 3, 10, 3, 6, 7, 6].\n",
    "\n",
    " Este sigue una distribución de Poisson con parámetro $\\lambda$."
   ],
   "id": "1b851032d657952f"
  },
  {
   "metadata": {},
   "cell_type": "markdown",
   "source": "####  i. ¿Cuál es el número estimado de muertos en un año?",
   "id": "c97dd226b835fa62"
  },
  {
   "metadata": {
    "collapsed": true,
    "ExecuteTime": {
     "end_time": "2025-09-01T00:04:33.033956Z",
     "start_time": "2025-09-01T00:04:33.008908Z"
    }
   },
   "cell_type": "code",
   "source": [
    "datos_a= [7, 7, 1, 5, 2, 8, 5, 6, 5, 5, 8, 3, 12, 9, 3, 7, 4,8, 3, 6, 10, 3, 5, 8, 3, 10, 3, 6, 7, 6]\n",
    "\n",
    "# lambda_mle a una distribucion poisson es igual a X_hat\n",
    "\n",
    "lambda_mle = sum(datos_a)/len(datos_a)\n",
    "\n",
    "# Creo una funcion h(lambda) = 365 * lambda\n",
    "\n",
    "resultado = 365 * lambda_mle\n",
    "\n",
    "print(f'El numero estimado de muertos en un año es: {resultado}')\n"
   ],
   "id": "initial_id",
   "outputs": [
    {
     "name": "stdout",
     "output_type": "stream",
     "text": [
      "5.833333333333333\n",
      "El numero estimado de muertos en un año es: 2129.1666666666665\n"
     ]
    }
   ],
   "execution_count": 11
  },
  {
   "metadata": {},
   "cell_type": "markdown",
   "source": "#### ii. Estimar la probabilidad de que un día haya 2 o menos muertes.",
   "id": "450c5ca5242bc0a2"
  },
  {
   "metadata": {
    "ExecuteTime": {
     "end_time": "2025-09-01T00:07:09.931132Z",
     "start_time": "2025-09-01T00:07:09.917525Z"
    }
   },
   "cell_type": "code",
   "source": [
    "import numpy as np\n",
    "\n",
    "# Creo una funcion para probabilidad de x menor o igual a 2\n",
    "# p(x<=2) = px(0)+px(1)+px(2)\n",
    "\n",
    "resultado = np.e ** (- lambda_mle) * (1 + lambda_mle + (lambda_mle **2)/2)\n",
    "\n",
    "print(f'La probabilidad de que un dia haya 2 o menos muertes es: {round(resultado,4)}')"
   ],
   "id": "b49496bbae4da99",
   "outputs": [
    {
     "name": "stdout",
     "output_type": "stream",
     "text": [
      "La probabilidad de que un dia haya 2 o menos muertes es: 0.0698\n"
     ]
    }
   ],
   "execution_count": 15
  },
  {
   "metadata": {},
   "cell_type": "markdown",
   "source": "",
   "id": "26f1c85a0a85b33d"
  },
  {
   "metadata": {},
   "cell_type": "markdown",
   "source": [
    "## Punto b\n",
    "\n",
    " En un estudio de salud pública se estima que en cada comunidad existe la misma proporción $\\theta$ de personas con inmunidad a una cierta enfermedad. En cada una de 8 comunidades seleccionadas al azar, se cuenta la cantidad de personas que deben ser examinadas hasta encontrar una persona inmune (llamemos $X$ a esta cantidad). Los resultados son: 3, 8, 9, 6, 4, 5, 3, 2 (i.e.:\n",
    " en el primer distrito las dos primeras personas examinadas no tenían inmunidad y la tercera\n",
    " sí). Basándose en estos datos, calcular el estimador de máxima verosimilitud de $P_{\\theta}(X>5)$"
   ],
   "id": "b76f9b50205135d1"
  },
  {
   "metadata": {},
   "cell_type": "markdown",
   "source": "### Desarrollo",
   "id": "e2902ba3dcb1f732"
  },
  {
   "metadata": {
    "ExecuteTime": {
     "end_time": "2025-09-01T00:53:07.401502Z",
     "start_time": "2025-09-01T00:53:07.359794Z"
    }
   },
   "cell_type": "code",
   "source": [
    "datos_b = [3, 8, 9, 6, 4, 5, 3, 2]\n",
    "\n",
    "# Estimadod de maxima verosimilitud de geometrica con parametro theta\n",
    "\n",
    "theta_mle = 1/(sum(datos_b)/len(datos_b))\n",
    "\n",
    "# Busco P(x>5) = 1 - P(X<=5) = (1-theta)**5\n",
    "\n",
    "resultado = (1-theta_mle)**5\n",
    "\n",
    "print(f'Probabilidad de encontrar persona inmune a partir de la quinta persona: {resultado}')"
   ],
   "id": "d998d00ced51b47c",
   "outputs": [
    {
     "name": "stdout",
     "output_type": "stream",
     "text": [
      "Probabilidad de encontrar persona inmune a partir de la quinta persona: 0.3276800000000001\n"
     ]
    }
   ],
   "execution_count": 18
  }
 ],
 "metadata": {
  "kernelspec": {
   "display_name": "Python 3",
   "language": "python",
   "name": "python3"
  },
  "language_info": {
   "codemirror_mode": {
    "name": "ipython",
    "version": 2
   },
   "file_extension": ".py",
   "mimetype": "text/x-python",
   "name": "python",
   "nbconvert_exporter": "python",
   "pygments_lexer": "ipython2",
   "version": "2.7.6"
  }
 },
 "nbformat": 4,
 "nbformat_minor": 5
}
