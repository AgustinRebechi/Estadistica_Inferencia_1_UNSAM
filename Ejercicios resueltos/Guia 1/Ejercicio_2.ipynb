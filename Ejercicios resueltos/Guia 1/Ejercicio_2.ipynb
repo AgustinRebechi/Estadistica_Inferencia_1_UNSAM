{
 "cells": [
  {
   "metadata": {},
   "cell_type": "markdown",
   "source": [
    "# Ejercicio 2 - Guia 1\n",
    "\n",
    "Aplicaciones (distribución normal)"
   ],
   "id": "e2287ae0ac51cfeb"
  },
  {
   "metadata": {},
   "cell_type": "markdown",
   "source": "## Punto a",
   "id": "5ee04ad19eb0be1d"
  },
  {
   "metadata": {},
   "cell_type": "markdown",
   "source": [
    "a)  Con cierto instrumento se realizan 20 mediciones de una magnitud física $\\mu$. Cada observación es de la forma $X = \\mu + \\epsilon$ , donde $\\epsilon$ es el error de medición (aleatorio). Se obtienen los siguientes datos:\n",
    "\n",
    "25.11, 25.02, 25.16, 24.98, 24.83, 25.05, 24.94, 25.04, 24.99, 24.96,\n",
    "25.03, 24.97, 24.93, 25.12, 25.01, 25.12, 24.90, 24.98, 25.10, 24.96\n",
    "\n",
    "Suponiendo que los errores de medición tienen distribución normal con media cero y varianza 0.01, estimar 𝜇. ¿Cuál es la varianza del estimador de 𝜇?\n",
    "\n"
   ],
   "id": "b6dafd59b6d08b7d"
  },
  {
   "metadata": {},
   "cell_type": "markdown",
   "source": "### Desarrollo",
   "id": "fccee2fba7b2522d"
  },
  {
   "cell_type": "code",
   "id": "initial_id",
   "metadata": {
    "collapsed": true,
    "ExecuteTime": {
     "end_time": "2025-08-31T21:55:47.671373Z",
     "start_time": "2025-08-31T21:55:47.661844Z"
    }
   },
   "source": [
    "from scipy.stats import norm\n",
    "\n",
    "datos = [25.11, 25.02, 25.16, 24.98, 24.83, 25.05, 24.94, 25.04, 24.99, 24.96,25.03, 24.97, 24.93, 25.12, 25.01, 25.12, 24.90, 24.98, 25.10, 24.96]\n",
    "\n",
    "mu_hat = sum(datos)/len(datos)\n",
    "print(f\"valor estimado de mu es: {mu_hat}\")\n",
    "\n",
    "theta=0.01\n",
    "\n",
    "var = theta/len(datos)\n",
    "print(f\"Valor estimado de varianza es:\\n{var}\")"
   ],
   "outputs": [
    {
     "name": "stdout",
     "output_type": "stream",
     "text": [
      "valor estimado de mu es: 25.009999999999998\n",
      "Valor estimado de varianza es:\n",
      "0.0005\n"
     ]
    }
   ],
   "execution_count": 8
  },
  {
   "metadata": {},
   "cell_type": "markdown",
   "source": "## Punto b",
   "id": "67295781d37fdaa2"
  },
  {
   "metadata": {},
   "cell_type": "markdown",
   "source": [
    " Para controlar la precisión de un sistema de medición se mide 24 veces una magnitud conocida $\\mu_{0}=12$, obteniéndose los siguientes valores\n",
    "\n",
    " 12.51, 11.66, 11.91, 12.25, 11.54, 11.36, 12.40, 12.19, 12.88, 12.16,\n",
    " 12.69, 12.91, 12.12, 11.02, 12.53, 11.77, 12.72, 10.56, 11.52, 11.66\n",
    "\n",
    " Estimar la precisión (es decir, la varianza del error de medición), suponiendo que los errores\n",
    " están normalmente distribuidos con media cero"
   ],
   "id": "229d495246b4b2b5"
  },
  {
   "metadata": {},
   "cell_type": "markdown",
   "source": "### Desarrollo",
   "id": "472c1786f3873db4"
  },
  {
   "metadata": {
    "ExecuteTime": {
     "end_time": "2025-08-31T22:09:24.512142Z",
     "start_time": "2025-08-31T22:09:24.499013Z"
    }
   },
   "cell_type": "code",
   "source": [
    "datos_b = [12.51, 11.66, 11.91, 12.25, 11.54, 11.36, 12.40, 12.19, 12.88, 12.16,12.69, 12.91, 12.12, 11.02, 12.53, 11.77, 12.72, 10.56, 11.52, 11.66]\n",
    "\n",
    "precision = 0\n",
    "for i in datos_b:\n",
    "    precision += (i-12)**2/len(datos_b)\n",
    "\n",
    "\n",
    "print(f\"Valor estimado de precision es: {round(precision,3)}\")"
   ],
   "id": "8ea6f03e6b4e7f97",
   "outputs": [
    {
     "name": "stdout",
     "output_type": "stream",
     "text": [
      "Valor estimado de precision es: 0.381\n"
     ]
    }
   ],
   "execution_count": 12
  }
 ],
 "metadata": {
  "kernelspec": {
   "display_name": "Python 3",
   "language": "python",
   "name": "python3"
  },
  "language_info": {
   "codemirror_mode": {
    "name": "ipython",
    "version": 2
   },
   "file_extension": ".py",
   "mimetype": "text/x-python",
   "name": "python",
   "nbconvert_exporter": "python",
   "pygments_lexer": "ipython2",
   "version": "2.7.6"
  }
 },
 "nbformat": 4,
 "nbformat_minor": 5
}
